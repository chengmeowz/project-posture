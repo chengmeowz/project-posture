{
 "cells": [
  {
   "cell_type": "code",
   "execution_count": 1,
   "id": "f999e7ef",
   "metadata": {},
   "outputs": [
    {
     "name": "stdout",
     "output_type": "stream",
     "text": [
      "     Unnamed: 0  Subject  Vision Surface         X         Y\n",
      "0             0        1    Open    Firm -0.922794  0.702471\n",
      "1             1        1  Closed    Firm -0.929073  0.702471\n",
      "2             2        1    Open    Foam -0.673078  0.702471\n",
      "3             3        1  Closed    Foam -0.453918  0.702471\n",
      "4             4        2    Open    Firm -0.941319 -0.368982\n",
      "..          ...      ...     ...     ...       ...       ...\n",
      "639         639      162    Open    Foam  0.332269 -0.287135\n",
      "640         640      163  Closed    Firm -0.806407 -0.517795\n",
      "641         641      163    Open    Foam -0.112514 -0.517795\n",
      "642         642      163    Open    Firm -0.797555 -0.517795\n",
      "643         643      163  Closed    Foam -0.049677 -0.517795\n",
      "\n",
      "[644 rows x 6 columns]\n"
     ]
    }
   ],
   "source": [
    "# -*- coding: utf-8 -*-\n",
    "# learning\n",
    "# author: Cheng Zheng\n",
    "\n",
    "import os\n",
    "import numpy as np\n",
    "import pandas as pd\n",
    "import matplotlib.pyplot as plt\n",
    "\n",
    "# Machine learning algorithms\n",
    "from sklearn.linear_model import Ridge #Ridge regression\n",
    "\n",
    "# Cross-validation\n",
    "'''\n",
    "GridSearchCV = Perform an optimization of the parameters. 可以保证在指定的参数范围内找到精度最高的参数\n",
    "                1. search for the best parameters for model; \n",
    "                2. automatically fit a new model on the training dataset w/ the parameters that \n",
    "                    can yield the best cross-validation performance.\n",
    "cross_val_score = to implement cross-validation in scikit-learn.\n",
    "KFold: just to divide the dataset.\n",
    "    - When an integer is passed to the cv parameter of cross_val_score():\n",
    "        cv=int (same as cv=StratifiedKFold(n_splits=int)) is used if the estimator is a classifier \n",
    "        and y is either binary or multiclass; In all other cases, KFold is used.\n",
    "'''\n",
    "from sklearn.model_selection import GridSearchCV, cross_val_score, KFold\n",
    "\n",
    "path = os.getcwd()#get current path\n",
    "path_up1Dir = os.path.dirname(path)#go up one directory\n",
    "dataset = pd.read_excel(path_up1Dir +'/x_TotalArea_y_MVPA/x_TotalArea_y_MVPA.xlsx')#to import the preprocessed dataset into a variable\n",
    "\n",
    "print(dataset)"
   ]
  },
  {
   "cell_type": "code",
   "execution_count": 2,
   "id": "8d385dbb",
   "metadata": {},
   "outputs": [
    {
     "name": "stdout",
     "output_type": "stream",
     "text": [
      "0     -0.922794\n",
      "1     -0.929073\n",
      "2     -0.673078\n",
      "3     -0.453918\n",
      "4     -0.941319\n",
      "         ...   \n",
      "639    0.332269\n",
      "640   -0.806407\n",
      "641   -0.112514\n",
      "642   -0.797555\n",
      "643   -0.049677\n",
      "Name: X, Length: 644, dtype: float64 0      0.702471\n",
      "1      0.702471\n",
      "2      0.702471\n",
      "3      0.702471\n",
      "4     -0.368982\n",
      "         ...   \n",
      "639   -0.287135\n",
      "640   -0.517795\n",
      "641   -0.517795\n",
      "642   -0.517795\n",
      "643   -0.517795\n",
      "Name: Y, Length: 644, dtype: float64      Unnamed: 0  Subject  Vision Surface\n",
      "0             0        1    Open    Firm\n",
      "1             1        1  Closed    Firm\n",
      "2             2        1    Open    Foam\n",
      "3             3        1  Closed    Foam\n",
      "4             4        2    Open    Firm\n",
      "..          ...      ...     ...     ...\n",
      "639         639      162    Open    Foam\n",
      "640         640      163  Closed    Firm\n",
      "641         641      163    Open    Foam\n",
      "642         642      163    Open    Firm\n",
      "643         643      163  Closed    Foam\n",
      "\n",
      "[644 rows x 4 columns]\n"
     ]
    }
   ],
   "source": [
    "X = dataset['X']\n",
    "y = dataset['Y']\n",
    "other = pd.DataFrame(dataset.iloc[:,:4])\n",
    "print(X, y, other)"
   ]
  },
  {
   "cell_type": "code",
   "execution_count": 3,
   "id": "aa9f69b3",
   "metadata": {},
   "outputs": [
    {
     "data": {
      "image/png": "[encoded data removed]",
      "text/plain": [
       "<Figure size 432x288 with 1 Axes>"
      ]
     },
     "metadata": {
      "needs_background": "light"
     },
     "output_type": "display_data"
    }
   ],
   "source": [
    "plt.scatter(X, y)\n",
    "plt.show()"
   ]
  },
  {
   "cell_type": "code",
   "execution_count": 4,
   "id": "93b9ba57",
   "metadata": {},
   "outputs": [],
   "source": [
    "X_ = X.values.reshape(-1, 1) # some algorithms need to reshape X if X has a single feature"
   ]
  },
  {
   "cell_type": "code",
   "execution_count": 7,
   "id": "5ab9a942",
   "metadata": {},
   "outputs": [
    {
     "name": "stdout",
     "output_type": "stream",
     "text": [
      "\n",
      "------------------ Ridge Regression Model\n",
      "Best parameter: {'alpha': 100.0}\n",
      "Best cross-validation score: -0.19\n",
      "Best estimator: Ridge(alpha=100.0)\n",
      "The Index of Best estimator: 9\n"
     ]
    }
   ],
   "source": [
    "# Ridge regression\n",
    "'''\n",
    "这里不用分X_train和y_train; 提前分割/交叉验证/自动调参的时候才需要。\n",
    "What is cross-validation?\n",
    "    - A statistical method of evaluating generalization performance \n",
    "        through regrouping the original dataset to multiple training sets (for training) and test sets (for evaluation).\n",
    "Why cross-validation?\n",
    "    - To reduce the possibility in overfitting. e.g. When doing the ridge regression, \n",
    "        the more accurate the alpha, the better the model. However, the better the model, it's easier to overfit.\n",
    "        In order to solve this overfitting, we need to use K-fold cross-validation to verify.\n",
    "    - To evaluate how well a given algorithm will generalize when trained on a specific dataset.\n",
    "Why not leave-one-out but 10-Fold?\n",
    "    - Even though leave-one-out's distribution is the closest to the original sample (just lack one sample), \n",
    "        the complexity has increased due to the number of models and our data is not deficient. \n",
    "        So, we chose 10-Fold instead to avoid the limitations of fixed datasets (reason 4 not do train_test_split), \n",
    "        since different divisions will result in different optimal models to evaluate our models.\n",
    "What is 10-Fold?\n",
    "    - first, split the data into ten parts of (approximately) equal size, called folds;\n",
    "    - second, train a sequence of models. \n",
    "        The first one is using first fold as test set and the remaining folds (2-10) as training set, \n",
    "        and then use the model to evaluate the accuracy. \n",
    "        And similarily repeat for the other 9 model to eventually get 10 accuracy values.\n",
    "'''\n",
    "\n",
    "'''\n",
    "# ridge要考虑的参数是alpha，通过GridSearchCV我们需要确定param_grid也就是这个参数有哪些值才能找到最佳模型。\n",
    "# np.logspace用于创建等比数列, 开始点和结束点是10的幂, \n",
    "    i.e. logspace(-2,1,4)表示起始数字为10^-2，结尾数字为10^1即10，元素个数为4的等比数列\n",
    "'''\n",
    "# Set param_grid, aka the main parameters in Ridge\n",
    "param_grid_Ridge = {\n",
    "    'alpha':np.logspace(-3,2,10)\n",
    "}\n",
    "\n",
    "# GridSearchCV\n",
    "ridge = GridSearchCV(estimator=Ridge(), # algorithm - Ridge regression\n",
    "                    param_grid=param_grid_Ridge, # specify the parameters to search over using a dict or list of dictionaries\n",
    "                    cv=10 # 10-Fold\n",
    "                    )\n",
    "\n",
    "# Build the model\n",
    "ridge.fit(X_, y)\n",
    "\n",
    "# Output the best parameter, cross-validation score, estimator, and the index of best estimator.\n",
    "print(\"\\n------------------ Ridge Regression Model\")\n",
    "print(\"Best parameter: {}\".format(ridge.best_params_))\n",
    "print(\"Best cross-validation score: {:.2f}\".format(ridge.best_score_))\n",
    "print(\"Best estimator: {}\".format(ridge.best_estimator_))\n",
    "print(\"The Index of Best estimator: {}\".format(ridge.best_index_))"
   ]
  },
  {
   "cell_type": "code",
   "execution_count": 9,
   "id": "932616f3",
   "metadata": {},
   "outputs": [],
   "source": [
    "# Use the above optimal parameters to build new model\n",
    "ridge = Ridge(alpha=100.0).fit(X_, y)"
   ]
  },
  {
   "cell_type": "code",
   "execution_count": null,
   "id": "b0181441",
   "metadata": {},
   "outputs": [],
   "source": [
    "# Draw the Ridge Regression\n"
   ]
  }
 ],
 "metadata": {
  "kernelspec": {
   "display_name": "Python 3",
   "language": "python",
   "name": "python3"
  },
  "language_info": {
   "codemirror_mode": {
    "name": "ipython",
    "version": 3
   },
   "file_extension": ".py",
   "mimetype": "text/x-python",
   "name": "python",
   "nbconvert_exporter": "python",
   "pygments_lexer": "ipython3",
   "version": "3.8.2"
  }
 },
 "nbformat": 4,
 "nbformat_minor": 5
}
