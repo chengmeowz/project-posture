{
 "cells": [
  {
   "cell_type": "code",
   "execution_count": 1,
   "id": "9644c6a8",
   "metadata": {},
   "outputs": [],
   "source": [
    "import os\n",
    "import numpy as np\n",
    "import pandas as pd\n",
    "\n",
    "# to later draw the tree\n",
    "import graphviz \n",
    "from sklearn import tree\n",
    "\n",
    "# Machine learning algorithms\n",
    "from sklearn.ensemble import AdaBoostRegressor #AdaBoost\n",
    "\n",
    "# Cross-validation\n",
    "'''\n",
    "GridSearchCV = Perform an optimization of the parameters. 可以保证在指定的参数范围内找到精度最高的参数\n",
    "                1. search for the best parameters for model; \n",
    "                2. automatically fit a new model on the training dataset w/ the parameters that \n",
    "                    can yield the best cross-validation performance.\n",
    "cross_val_score = to implement cross-validation in scikit-learn.\n",
    "PS: When an integer is passed to the cv parameter of cross_val_score():\n",
    "        cv=int (same as cv=StratifiedKFold(n_splits=int)) is used if the estimator is a classifier \n",
    "        and y is either binary or multiclass; In all other cases, KFold is used.\n",
    "        i.e. 写int=10会自动转换为KFold(n_splits=10),不会转换为StratifiedKFold(n_splits=10)。\n",
    "'''\n",
    "from sklearn.model_selection import GridSearchCV, cross_val_score\n",
    "\n",
    "path = os.getcwd()#get current path\n",
    "path_up1Dir = os.path.dirname(path)#go up one directory\n",
    "dataset = pd.read_excel(path_up1Dir +'/x_TotalArea_y_MVPA/x_TotalArea_y_MVPA.xlsx')#to import the preprocessed dataset into a variable\n",
    "\n",
    "# print(dataset)"
   ]
  },
  {
   "cell_type": "code",
   "execution_count": 2,
   "id": "6f5ee981",
   "metadata": {},
   "outputs": [],
   "source": [
    "X = dataset['X']\n",
    "y = dataset['Y']\n",
    "other = pd.DataFrame(dataset.iloc[:,:4])\n",
    "# print(X, y, other)"
   ]
  },
  {
   "cell_type": "code",
   "execution_count": 3,
   "id": "2dff0afc",
   "metadata": {},
   "outputs": [],
   "source": [
    "X_ = X.values.reshape(-1, 1) # some algorithms need to reshape X if X has a single feature"
   ]
  },
  {
   "cell_type": "code",
   "execution_count": 4,
   "id": "b0d18c86",
   "metadata": {
    "scrolled": true
   },
   "outputs": [
    {
     "name": "stdout",
     "output_type": "stream",
     "text": [
      "\n",
      "------------------ AdaBoostRegressor Model\n",
      "Best parameter: {'learning_rate': 0.1, 'n_estimators': 10, 'random_state': 51}\n",
      "Best cross-validation score: -0.26\n",
      "Average score in 10-Fold: \n",
      " [-0.32371821 -0.28336782 -0.2984958  ... -2.01491842 -1.56522946\n",
      " -2.09449676]\n",
      "Std score in 10-Fold: \n",
      " [0.53778007 0.40977257 0.44964517 ... 2.56740222 2.00858704 2.99540904]\n",
      "Best estimator: AdaBoostRegressor(learning_rate=0.1, n_estimators=10, random_state=51)\n",
      "The Index of Best estimator: 5\n"
     ]
    }
   ],
   "source": [
    "# AdaBoost\n",
    "'''\n",
    "Why AdaBoostRegressor not AdaBoostClassifier?\n",
    "    - first, there is a huge difference between classifiers and regressors. \n",
    "        Classifiers predict a set of specified labels. \n",
    "            e.g. Email Spam Detection, where to classify whether an email is either spam (1) or not spam(0) . \n",
    "        Regressors predict some value, which could be almost anything. \n",
    "            (predict real valued outputs which vary and dont require outputs predicted to be in a fixed set)\n",
    "            e.g. Predicting the runs scored by a team in a cricket match.\n",
    "    - in our case, we want to use data to predict MVPA_minutes.week from any of the four Total Area (cm²) average scores.\n",
    "    - so, we are predicting a quantity instead of a label, which means we should use regressor.\n",
    "'''\n",
    "\n",
    "'''\n",
    "The number of weak learners is controlled by the parameter n_estimators. \n",
    "The learning_rate parameter controls the contribution of the weak learners in the final combination. \n",
    "# n_estimators = The maximum number of estimators at which boosting is terminated.\n",
    "# learning_rate = Weight applied to each classifier at each boosting iteration. \n",
    "                    A higher learning rate increases the contribution of each classifier. \n",
    "'''\n",
    "\n",
    "# Set param_grid, aka the main parameters in RandomForestRegressor\n",
    "param_grid_AdaBoostRegressor = {\n",
    "    'n_estimators':np.arange(10,201,10), # 从10到200，每隔10取一个\n",
    "    'learning_rate':np.arange(0.1,1.1,0.1), # 从0.1到1，每隔0.1取一个\n",
    "    'random_state':np.arange(1,101,10)\n",
    "}\n",
    "\n",
    "# GridSearchCV\n",
    "abr = GridSearchCV(estimator=AdaBoostRegressor(), # algorithm - AdaBoost Regressor\n",
    "                    param_grid=param_grid_AdaBoostRegressor, # specify the parameters to search over using a dict or list of dictionaries\n",
    "                    cv=10 # 10-Fold\n",
    "                    )\n",
    "\n",
    "# Build the model, aka training the dataset\n",
    "abr.fit(X_, y)\n",
    "\n",
    "# Output the best parameter, cross-validation score, estimator, and the index of best estimator.\n",
    "print(\"\\n------------------ AdaBoostRegressor Model\")\n",
    "print(\"Best parameter: {}\".format(abr.best_params_))\n",
    "print(\"Best cross-validation score: {:.2f}\".format(abr.best_score_))\n",
    "print(\"Average score in 10-Fold: \\n\", abr.cv_results_['mean_test_score'])\n",
    "print(\"Std score in 10-Fold: \\n\", abr.cv_results_['std_test_score'])\n",
    "print(\"Best estimator: {}\".format(abr.best_estimator_))\n",
    "print(\"The Index of Best estimator: {}\".format(abr.best_index_))"
   ]
  },
  {
   "cell_type": "code",
   "execution_count": 5,
   "id": "2aff862c",
   "metadata": {},
   "outputs": [
    {
     "name": "stdout",
     "output_type": "stream",
     "text": [
      "[-0.08995219 -1.08315891 -0.35224112 -0.40887857 -0.34434805 -0.15570946\n",
      " -0.09485491  0.0138827  -0.04083892 -0.04656268]\n"
     ]
    }
   ],
   "source": [
    "'''\n",
    "机器学习不同于统计建模，有些定义不一样。sklearn这个包定义的比较奇怪而已。\n",
    "https://zhuanlan.zhihu.com/p/369330147，score接近于1越好的是R2这个指标，其他的指标是接近于0越好。把负数去掉即可。\n",
    "'''\n",
    "# 10-Fold Cross-validation to check its accuracy again\n",
    "score = cross_val_score(estimator=AdaBoostRegressor(learning_rate=0.1, n_estimators=10, random_state=51),\n",
    "                        X=X_, y=y,\n",
    "                        cv=10\n",
    "                       )\n",
    "print(score)"
   ]
  },
  {
   "cell_type": "code",
   "execution_count": 6,
   "id": "2332a065",
   "metadata": {},
   "outputs": [],
   "source": [
    "# Use the above optimal parameters to build new model, aka training the dataset\n",
    "abr = AdaBoostRegressor(learning_rate=0.1, n_estimators=10, random_state=51).fit(X_, y)"
   ]
  },
  {
   "cell_type": "code",
   "execution_count": 7,
   "id": "2345ba8f",
   "metadata": {},
   "outputs": [
    {
     "data": {
      "text/plain": [
       "'/Users/zclalala/Documents/GitHub/project-posture/x_TotalArea_y_MVPA/x_TotalArea_y_MVPA_AdaBoost.pdf'"
      ]
     },
     "execution_count": 7,
     "metadata": {},
     "output_type": "execute_result"
    }
   ],
   "source": [
    "# Draw the AdaBoost\n",
    "abr_tree = abr.estimators_[0] # Draw the first tree\n",
    "\n",
    "# Export a decision tree w/ color in DOT format.\n",
    "dot_data = tree.export_graphviz(decision_tree=abr_tree, # decision tree classifier\n",
    "                               filled=True, # True: paint nodes to indicate majority class for classification, extremity of values for regression, or purity of node for multi-output\n",
    "                               rounded=True, # True: draw node boxes with rounded corners and use Helvetica fonts instead of Times-Roman\n",
    "                               special_characters=True # True: do not ignore special characters for PostScript compatibility\n",
    "                               )\n",
    "\n",
    "# Output the graph\n",
    "graph = graphviz.Source(dot_data)\n",
    "graph.render(filename='x_TotalArea_y_MVPA_AdaBoost', \n",
    "            directory=path_up1Dir +'/x_TotalArea_y_MVPA')"
   ]
  },
  {
   "cell_type": "code",
   "execution_count": null,
   "id": "38df8351",
   "metadata": {},
   "outputs": [],
   "source": []
  }
 ],
 "metadata": {
  "kernelspec": {
   "display_name": "Python 3",
   "language": "python",
   "name": "python3"
  },
  "language_info": {
   "codemirror_mode": {
    "name": "ipython",
    "version": 3
   },
   "file_extension": ".py",
   "mimetype": "text/x-python",
   "name": "python",
   "nbconvert_exporter": "python",
   "pygments_lexer": "ipython3",
   "version": "3.8.2"
  }
 },
 "nbformat": 4,
 "nbformat_minor": 5
}
