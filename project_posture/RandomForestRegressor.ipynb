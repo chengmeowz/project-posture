{
 "cells": [
  {
   "cell_type": "code",
   "execution_count": 1,
   "id": "4135d463",
   "metadata": {},
   "outputs": [
    {
     "name": "stdout",
     "output_type": "stream",
     "text": [
      "     Unnamed: 0  Subject  Vision Surface         X         Y\n",
      "0             0        1    Open    Firm -0.922794  0.702471\n",
      "1             1        1  Closed    Firm -0.929073  0.702471\n",
      "2             2        1    Open    Foam -0.673078  0.702471\n",
      "3             3        1  Closed    Foam -0.453918  0.702471\n",
      "4             4        2    Open    Firm -0.941319 -0.368982\n",
      "..          ...      ...     ...     ...       ...       ...\n",
      "639         639      162    Open    Foam  0.332269 -0.287135\n",
      "640         640      163  Closed    Firm -0.806407 -0.517795\n",
      "641         641      163    Open    Foam -0.112514 -0.517795\n",
      "642         642      163    Open    Firm -0.797555 -0.517795\n",
      "643         643      163  Closed    Foam -0.049677 -0.517795\n",
      "\n",
      "[644 rows x 6 columns]\n"
     ]
    }
   ],
   "source": [
    "import os\n",
    "import numpy as np\n",
    "import pandas as pd\n",
    "\n",
    "# to later draw the forest\n",
    "import graphviz \n",
    "from sklearn import tree\n",
    "\n",
    "# Machine learning algorithms\n",
    "from sklearn.ensemble import RandomForestRegressor #Random Forest\n",
    "\n",
    "# Cross-validation\n",
    "'''\n",
    "GridSearchCV = Perform an optimization of the parameters. 可以保证在指定的参数范围内找到精度最高的参数\n",
    "                1. search for the best parameters for model; \n",
    "                2. automatically fit a new model on the training dataset w/ the parameters that \n",
    "                    can yield the best cross-validation performance.\n",
    "cross_val_score = to implement cross-validation in scikit-learn.\n",
    "KFold: just to divide the dataset.\n",
    "    - When an integer is passed to the cv parameter of cross_val_score():\n",
    "        cv=int (same as cv=StratifiedKFold(n_splits=int)) is used if the estimator is a classifier \n",
    "        and y is either binary or multiclass; In all other cases, KFold is used.\n",
    "'''\n",
    "from sklearn.model_selection import GridSearchCV, KFold\n",
    "\n",
    "path = os.getcwd()#get current path\n",
    "path_up1Dir = os.path.dirname(path)#go up one directory\n",
    "dataset = pd.read_excel(path_up1Dir +'/x_TotalArea_y_MVPA/x_TotalArea_y_MVPA.xlsx')#to import the preprocessed dataset into a variable\n",
    "\n",
    "print(dataset)"
   ]
  },
  {
   "cell_type": "code",
   "execution_count": 2,
   "id": "954083f4",
   "metadata": {},
   "outputs": [
    {
     "name": "stdout",
     "output_type": "stream",
     "text": [
      "0     -0.922794\n",
      "1     -0.929073\n",
      "2     -0.673078\n",
      "3     -0.453918\n",
      "4     -0.941319\n",
      "         ...   \n",
      "639    0.332269\n",
      "640   -0.806407\n",
      "641   -0.112514\n",
      "642   -0.797555\n",
      "643   -0.049677\n",
      "Name: X, Length: 644, dtype: float64 0      0.702471\n",
      "1      0.702471\n",
      "2      0.702471\n",
      "3      0.702471\n",
      "4     -0.368982\n",
      "         ...   \n",
      "639   -0.287135\n",
      "640   -0.517795\n",
      "641   -0.517795\n",
      "642   -0.517795\n",
      "643   -0.517795\n",
      "Name: Y, Length: 644, dtype: float64      Unnamed: 0  Subject  Vision Surface\n",
      "0             0        1    Open    Firm\n",
      "1             1        1  Closed    Firm\n",
      "2             2        1    Open    Foam\n",
      "3             3        1  Closed    Foam\n",
      "4             4        2    Open    Firm\n",
      "..          ...      ...     ...     ...\n",
      "639         639      162    Open    Foam\n",
      "640         640      163  Closed    Firm\n",
      "641         641      163    Open    Foam\n",
      "642         642      163    Open    Firm\n",
      "643         643      163  Closed    Foam\n",
      "\n",
      "[644 rows x 4 columns]\n"
     ]
    }
   ],
   "source": [
    "X = dataset['X']\n",
    "y = dataset['Y']\n",
    "other = pd.DataFrame(dataset.iloc[:,:4])\n",
    "print(X, y, other)"
   ]
  },
  {
   "cell_type": "code",
   "execution_count": 4,
   "id": "24d128ac",
   "metadata": {},
   "outputs": [],
   "source": [
    "X_ = X.values.reshape(-1, 1) # some algorithms need to reshape X if X has a single feature"
   ]
  },
  {
   "cell_type": "code",
   "execution_count": 5,
   "id": "2144e3a0",
   "metadata": {},
   "outputs": [],
   "source": [
    "'''\n",
    "# n_splits = how many folds; \n",
    "# shuffle = True: to shuffle the data instead of stratifying the folds; \n",
    "                    to remove the ordering of the samples by label \n",
    "                    since each fold corresponds to one of the classes in the dataset which results to nothing can be learned.\n",
    "# random_state = 0: to fix the random_state to get a reproducible shuffling;\n",
    "                    otherwise, each run can yield a different result since each time different split would be used.\n",
    "'''\n",
    "kfold = KFold(n_splits=10, shuffle=True, random_state=0) "
   ]
  },
  {
   "cell_type": "code",
   "execution_count": 15,
   "id": "43b8f830",
   "metadata": {},
   "outputs": [
    {
     "name": "stdout",
     "output_type": "stream",
     "text": [
      "\n",
      "------------------ RandomForestRegressor Model\n",
      "Best parameter: {'bootstrap': True, 'max_depth': 2, 'max_features': 0.8, 'n_estimators': 30}\n",
      "Best cross-validation score: -0.02\n",
      "Best estimator: RandomForestRegressor(max_depth=2, max_features=0.8, n_estimators=30)\n",
      "The Index of Best estimator: 146\n"
     ]
    }
   ],
   "source": [
    "# Random Forest\n",
    "'''\n",
    "Why RandomForestRegressor not RandomForestClassifier?\n",
    "    - first, there is a huge difference between classifiers and regressors. \n",
    "        Classifiers predict a set of specified labels. \n",
    "            e.g. Email Spam Detection, where to classify whether an email is either spam (1) or not spam(0) . \n",
    "        Regressors predict some value, which could be almost anything. \n",
    "            (predict real valued outputs which vary and dont require outputs predicted to be in a fixed set)\n",
    "            e.g. Predicting the runs scored by a team in a cricket match.\n",
    "    - in our case, we want to use data to predict MVPA_minutes.week from any of the four Total Area (cm²) average scores.\n",
    "    - so, we are predicting a quantity instead of a label, which means we should use regressor.\n",
    "'''\n",
    "\n",
    "'''\n",
    "The main parameters to adjust when using these methods is n_estimators and max_features.\n",
    "Another important parameter is max_depth.\n",
    "# n_estimators = the number of trees in the forest. \n",
    "                The larger the better, but also the longer it takes to compute.\n",
    "# max_features = the number of features that are selected, aka how random each tree is.\n",
    "                The lower the greater the reduction of variance, but also the greater the increase in bias.\n",
    "                range = (0,1]\n",
    "# max_depth = 可以生成多少层叶子, to reduce the complexity of each tree to prevent overfitting, often not deeper than five splits\n",
    "# bootstrap = True: 使用自助采样法; False: 使用整个数据集.\n",
    "'''\n",
    "\n",
    "# Set param_grid, aka the main parameters in RandomForestRegressor\n",
    "param_grid_RandomForestRegressor = {\n",
    "    'n_estimators':np.arange(10,100,10), # 从10到100，每隔10取一个\n",
    "    'max_features':np.arange(0.1,1,0.1), # 从0.1到1，每隔0.1取一个\n",
    "    'max_depth':np.arange(1,10),\n",
    "    'bootstrap':[True,False]\n",
    "}\n",
    "\n",
    "# GridSearchCV\n",
    "rfg = GridSearchCV(estimator=RandomForestRegressor(), # algorithm - Random Forest Regressor\n",
    "                    param_grid=param_grid_RandomForestRegressor, # specify the parameters to search over using a dict or list of dictionaries\n",
    "                    cv=kfold # 10-Fold & this is not a classifier\n",
    "                    )\n",
    "\n",
    "# Build the model\n",
    "rfg.fit(X_, y)\n",
    "\n",
    "# Output the best parameter, cross-validation score, estimator, and the index of best estimator.\n",
    "print(\"\\n------------------ RandomForestRegressor Model\")\n",
    "print(\"Best parameter: {}\".format(rfg.best_params_))\n",
    "print(\"Best cross-validation score: {:.2f}\".format(rfg.best_score_))\n",
    "print(\"Best estimator: {}\".format(rfg.best_estimator_))\n",
    "print(\"The Index of Best estimator: {}\".format(rfg.best_index_))"
   ]
  },
  {
   "cell_type": "code",
   "execution_count": 16,
   "id": "5f4545cd",
   "metadata": {},
   "outputs": [],
   "source": [
    "# Use the above optimal parameters to build new model\n",
    "rfg = RandomForestRegressor(max_depth=2, max_features=0.8, n_estimators=30).fit(X_, y)"
   ]
  },
  {
   "cell_type": "code",
   "execution_count": 17,
   "id": "212ead5a",
   "metadata": {},
   "outputs": [
    {
     "data": {
      "text/plain": [
       "'/Users/zclalala/Documents/GitHub/project-posture/x_TotalArea_y_MVPA/x_TotalArea_y_MVPA_RandomForest.pdf'"
      ]
     },
     "execution_count": 17,
     "metadata": {},
     "output_type": "execute_result"
    }
   ],
   "source": [
    "# Draw the Random Forest\n",
    "rfg_tree = rfg.estimators_[0] # Draw the first tree\n",
    "\n",
    "## Export a decision tree w/ color in DOT format.\n",
    "dot_data = tree.export_graphviz(decision_tree=rfg_tree, # decision tree classifier\n",
    "                               filled=True, # True: paint nodes to indicate majority class for classification, extremity of values for regression, or purity of node for multi-output\n",
    "                               rounded=True, # True: draw node boxes with rounded corners and use Helvetica fonts instead of Times-Roman\n",
    "                               special_characters=True # True: do not ignore special characters for PostScript compatibility\n",
    "                               )\n",
    "\n",
    "## Output the graph\n",
    "graph = graphviz.Source(dot_data)\n",
    "graph.render(filename='x_TotalArea_y_MVPA_RandomForest', \n",
    "            directory=path_up1Dir +'/x_TotalArea_y_MVPA')"
   ]
  }
 ],
 "metadata": {
  "kernelspec": {
   "display_name": "Python 3",
   "language": "python",
   "name": "python3"
  },
  "language_info": {
   "codemirror_mode": {
    "name": "ipython",
    "version": 3
   },
   "file_extension": ".py",
   "mimetype": "text/x-python",
   "name": "python",
   "nbconvert_exporter": "python",
   "pygments_lexer": "ipython3",
   "version": "3.8.2"
  }
 },
 "nbformat": 4,
 "nbformat_minor": 5
}
