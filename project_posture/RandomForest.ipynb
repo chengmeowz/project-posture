{
 "cells": [
  {
   "cell_type": "code",
   "execution_count": 1,
   "id": "4135d463",
   "metadata": {},
   "outputs": [],
   "source": [
    "import os\n",
    "import numpy as np\n",
    "import pandas as pd\n",
    "\n",
    "# to later draw the tree\n",
    "import graphviz \n",
    "from sklearn import tree\n",
    "\n",
    "# Machine learning algorithms\n",
    "from sklearn.ensemble import RandomForestRegressor #Random Forest\n",
    "\n",
    "# Cross-validation\n",
    "'''\n",
    "GridSearchCV = Perform an optimization of the parameters. 可以保证在指定的参数范围内找到精度最高的参数\n",
    "                1. search for the best parameters for model; \n",
    "                2. automatically fit a new model on the training dataset w/ the parameters that \n",
    "                    can yield the best cross-validation performance.\n",
    "cross_val_score = to implement cross-validation in scikit-learn.\n",
    "PS: When an integer is passed to the cv parameter of cross_val_score():\n",
    "        cv=int (same as cv=StratifiedKFold(n_splits=int)) is used if the estimator is a classifier \n",
    "        and y is either binary or multiclass; In all other cases, KFold is used.\n",
    "        i.e. 写int=10会自动转换为KFold(n_splits=10),不会转换为StratifiedKFold(n_splits=10)。\n",
    "'''\n",
    "from sklearn.model_selection import GridSearchCV, cross_val_score\n",
    "\n",
    "path = os.getcwd()#get current path\n",
    "path_up1Dir = os.path.dirname(path)#go up one directory\n",
    "dataset = pd.read_excel(path_up1Dir +'/x_TotalArea_y_MVPA/x_TotalArea_y_MVPA.xlsx')#to import the preprocessed dataset into a variable\n",
    "\n",
    "# print(dataset)"
   ]
  },
  {
   "cell_type": "code",
   "execution_count": 2,
   "id": "954083f4",
   "metadata": {},
   "outputs": [],
   "source": [
    "X = dataset['X']\n",
    "y = dataset['Y']\n",
    "other = pd.DataFrame(dataset.iloc[:,:4])\n",
    "# print(X, y, other)"
   ]
  },
  {
   "cell_type": "code",
   "execution_count": 3,
   "id": "24d128ac",
   "metadata": {},
   "outputs": [],
   "source": [
    "X_ = X.values.reshape(-1, 1) # some algorithms need to reshape X if X has a single feature"
   ]
  },
  {
   "cell_type": "code",
   "execution_count": 4,
   "id": "43b8f830",
   "metadata": {
    "scrolled": true
   },
   "outputs": [
    {
     "name": "stdout",
     "output_type": "stream",
     "text": [
      "\n",
      "------------------ RandomForestRegressor Model\n",
      "Best parameter: {'bootstrap': True, 'max_depth': 2, 'max_features': 0.6, 'n_estimators': 10}\n",
      "Best cross-validation score: -0.19\n",
      "Average score in 10-Fold: \n",
      " [-0.22927896 -0.2168813  -0.22101956 ... -2.2290808  -2.2290808\n",
      " -2.2290808 ]\n",
      "Std score in 10-Fold: \n",
      " [0.29219457 0.28174544 0.27694316 ... 3.86432796 3.86432796 3.86432796]\n",
      "Best estimator: RandomForestRegressor(max_depth=2, max_features=0.6, n_estimators=10)\n",
      "The Index of Best estimator: 150\n"
     ]
    }
   ],
   "source": [
    "# Random Forest\n",
    "'''\n",
    "Why RandomForestRegressor not RandomForestClassifier?\n",
    "    - first, there is a huge difference between classifiers and regressors. \n",
    "        Classifiers predict a set of specified labels. \n",
    "            e.g. Email Spam Detection, where to classify whether an email is either spam (1) or not spam(0) . \n",
    "        Regressors predict some value, which could be almost anything. \n",
    "            (predict real valued outputs which vary and dont require outputs predicted to be in a fixed set)\n",
    "            e.g. Predicting the runs scored by a team in a cricket match.\n",
    "    - in our case, we want to use data to predict MVPA_minutes.week from any of the four Total Area (cm²) average scores.\n",
    "    - so, we are predicting a quantity instead of a label, which means we should use regressor.\n",
    "'''\n",
    "\n",
    "'''\n",
    "The main parameters to adjust when using these methods is n_estimators and max_features.\n",
    "In order to reduce the size of the model, you can change these parameters: \n",
    "    min_samples_split, max_leaf_nodes, max_depth and min_samples_leaf.\n",
    "# n_estimators = the number of trees in the forest. \n",
    "                The larger the better, but also the longer it takes to compute.\n",
    "# max_features = the number of features that are selected, aka how random each tree is.\n",
    "                The lower the greater the reduction of variance, but also the greater the increase in bias.\n",
    "                range = (0,1]\n",
    "# max_depth = 可以生成多少层叶子, to reduce the complexity of each tree to prevent overfitting, often not deeper than five splits\n",
    "# min_samples_split = 限制了子树继续划分的条件，如果某节点的样本数少于min_samples_split，则不会继续再尝试选择最优特征来进行划分。\n",
    "# bootstrap = True: 使用自助采样法; False: 使用整个数据集.\n",
    "'''\n",
    "\n",
    "# Set param_grid, aka the main parameters in RandomForestRegressor\n",
    "param_grid_RandomForestRegressor = {\n",
    "    'n_estimators':np.arange(10,101,10), # 从10到100，每隔10取一个\n",
    "    'max_features':np.arange(0.1,1.1,0.1), # 从0.1到1，每隔0.1取一个\n",
    "    'max_depth':np.arange(1,11),\n",
    "    #'min_samples_split':np.arange(2,10),\n",
    "    'bootstrap':[True,False]\n",
    "}\n",
    "\n",
    "# GridSearchCV\n",
    "rfg = GridSearchCV(estimator=RandomForestRegressor(), # algorithm - Random Forest Regressor\n",
    "                    param_grid=param_grid_RandomForestRegressor, # specify the parameters to search over using a dict or list of dictionaries\n",
    "                    cv=10 # 10-Fold\n",
    "                    )\n",
    "\n",
    "# Build the model, aka training the dataset\n",
    "rfg.fit(X_, y)\n",
    "\n",
    "# Output the best parameter, cross-validation score, estimator, and the index of best estimator.\n",
    "print(\"\\n------------------ RandomForestRegressor Model\")\n",
    "print(\"Best parameter: {}\".format(rfg.best_params_))\n",
    "print(\"Best cross-validation score: {:.2f}\".format(rfg.best_score_))\n",
    "print(\"Average score in 10-Fold: \\n\", rfg.cv_results_['mean_test_score'])\n",
    "print(\"Std score in 10-Fold: \\n\", rfg.cv_results_['std_test_score'])\n",
    "print(\"Best estimator: {}\".format(rfg.best_estimator_))\n",
    "print(\"The Index of Best estimator: {}\".format(rfg.best_index_))"
   ]
  },
  {
   "cell_type": "code",
   "execution_count": 5,
   "id": "a2923341",
   "metadata": {},
   "outputs": [
    {
     "name": "stdout",
     "output_type": "stream",
     "text": [
      "[-0.11077409 -1.24707759 -0.18170338 -0.44154007 -0.39376028 -0.2410554\n",
      "  0.01779459 -0.02463151 -0.08083898 -0.04045685]\n"
     ]
    }
   ],
   "source": [
    "'''\n",
    "机器学习不同于统计建模，有些定义不一样。sklearn这个包定义的比较奇怪而已。\n",
    "https://zhuanlan.zhihu.com/p/369330147，score接近于1越好的是R2这个指标，其他的指标是接近于0越好。把负数去掉即可。\n",
    "'''\n",
    "# 10-Fold Cross-validation to check its accuracy again\n",
    "score = cross_val_score(estimator=RandomForestRegressor(max_depth=2, max_features=0.6, n_estimators=10, bootstrap=True),\n",
    "                        X=X_, y=y,\n",
    "                        cv=10\n",
    "                       )\n",
    "print(score)"
   ]
  },
  {
   "cell_type": "code",
   "execution_count": 6,
   "id": "5f4545cd",
   "metadata": {},
   "outputs": [],
   "source": [
    "# Use the above optimal parameters to build new model, aka training the dataset\n",
    "rfg = RandomForestRegressor(max_depth=2, max_features=0.8, n_estimators=30).fit(X_, y)"
   ]
  },
  {
   "cell_type": "code",
   "execution_count": 7,
   "id": "212ead5a",
   "metadata": {},
   "outputs": [
    {
     "data": {
      "text/plain": [
       "'/Users/zclalala/Documents/GitHub/project-posture/x_TotalArea_y_MVPA/x_TotalArea_y_MVPA_RandomForest1.pdf'"
      ]
     },
     "execution_count": 7,
     "metadata": {},
     "output_type": "execute_result"
    }
   ],
   "source": [
    "# Draw the Random Forest\n",
    "rfg_tree = rfg.estimators_[0] # Draw the first tree\n",
    "\n",
    "# Export a decision tree w/ color in DOT format.\n",
    "dot_data = tree.export_graphviz(decision_tree=rfg_tree, # decision tree classifier\n",
    "                               filled=True, # True: paint nodes to indicate majority class for classification, extremity of values for regression, or purity of node for multi-output\n",
    "                               rounded=True, # True: draw node boxes with rounded corners and use Helvetica fonts instead of Times-Roman\n",
    "                               special_characters=True # True: do not ignore special characters for PostScript compatibility\n",
    "                               )\n",
    "\n",
    "# Output the graph\n",
    "graph = graphviz.Source(dot_data)\n",
    "graph.render(filename='x_TotalArea_y_MVPA_RandomForest1', \n",
    "            directory=path_up1Dir +'/x_TotalArea_y_MVPA')"
   ]
  },
  {
   "cell_type": "code",
   "execution_count": null,
   "id": "e2f82143",
   "metadata": {},
   "outputs": [],
   "source": []
  }
 ],
 "metadata": {
  "kernelspec": {
   "display_name": "Python 3",
   "language": "python",
   "name": "python3"
  },
  "language_info": {
   "codemirror_mode": {
    "name": "ipython",
    "version": 3
   },
   "file_extension": ".py",
   "mimetype": "text/x-python",
   "name": "python",
   "nbconvert_exporter": "python",
   "pygments_lexer": "ipython3",
   "version": "3.8.2"
  }
 },
 "nbformat": 4,
 "nbformat_minor": 5
}
