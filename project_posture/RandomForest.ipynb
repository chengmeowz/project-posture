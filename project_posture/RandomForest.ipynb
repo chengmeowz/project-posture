{
 "cells": [
  {
   "cell_type": "code",
   "execution_count": 14,
   "id": "4135d463",
   "metadata": {},
   "outputs": [],
   "source": [
    "import os\n",
    "import numpy as np\n",
    "import pandas as pd\n",
    "\n",
    "# to later draw the tree\n",
    "import graphviz \n",
    "from sklearn import tree\n",
    "\n",
    "# Machine learning algorithms\n",
    "from sklearn.ensemble import RandomForestRegressor #Random Forest\n",
    "\n",
    "# Cross-validation\n",
    "'''\n",
    "GridSearchCV = Perform an optimization of the parameters. 可以保证在指定的参数范围内找到精度最高的参数\n",
    "                1. search for the best parameters for model; \n",
    "                2. automatically fit a new model on the training dataset w/ the parameters that \n",
    "                    can yield the best cross-validation performance.\n",
    "cross_val_score = to implement cross-validation in scikit-learn.\n",
    "PS: When an integer is passed to the cv parameter of cross_val_score():\n",
    "        cv=int (same as cv=StratifiedKFold(n_splits=int)) is used if the estimator is a classifier \n",
    "        and y is either binary or multiclass; In all other cases, KFold is used.\n",
    "        i.e. 写int=10会自动转换为KFold(n_splits=10),不会转换为StratifiedKFold(n_splits=10)。\n",
    "'''\n",
    "from sklearn.model_selection import GridSearchCV, cross_val_score\n",
    "\n",
    "path = os.getcwd()#get current path\n",
    "path_up1Dir = os.path.dirname(path)#go up one directory\n",
    "dataset = pd.read_excel(path_up1Dir +'/y_MVPA/y_MVPA.xlsx')#to import the preprocessed dataset into a variable\n",
    "\n",
    "# print(dataset)"
   ]
  },
  {
   "cell_type": "code",
   "execution_count": 15,
   "id": "954083f4",
   "metadata": {},
   "outputs": [],
   "source": [
    "X = pd.DataFrame(dataset.iloc[:,5:10])\n",
    "y = dataset['aveTotalArea']\n",
    "other = pd.DataFrame(dataset.iloc[:,:4])\n",
    "# print(X, y, other)"
   ]
  },
  {
   "cell_type": "code",
   "execution_count": 16,
   "id": "43b8f830",
   "metadata": {
    "scrolled": true
   },
   "outputs": [
    {
     "name": "stdout",
     "output_type": "stream",
     "text": [
      "\n",
      "------------------ RandomForestRegressor Model\n",
      "Best parameter: {'bootstrap': True, 'max_depth': 6, 'max_features': 0.5, 'n_estimators': 80}\n",
      "Best score in r2: 0.76\n",
      "Average score in 10-Fold: \n",
      " [0.42876236 0.42863346 0.46651942 ... 0.62686144 0.62660863 0.62590342]\n",
      "Std score in 10-Fold: \n",
      " [0.11153871 0.09151419 0.09445947 ... 0.13262082 0.13224437 0.13193655]\n",
      "Best estimator: RandomForestRegressor(max_depth=6, max_features=0.5, n_estimators=80)\n",
      "The Index of Best estimator: 547\n"
     ]
    }
   ],
   "source": [
    "# Random Forest\n",
    "'''\n",
    "Why RandomForestRegressor not RandomForestClassifier?\n",
    "    - first, there is a huge difference between classifiers and regressors. \n",
    "        Classifiers predict a set of specified labels. \n",
    "            e.g. Email Spam Detection, where to classify whether an email is either spam (1) or not spam(0) . \n",
    "        Regressors predict some value, which could be almost anything. \n",
    "            (predict real valued outputs which vary and dont require outputs predicted to be in a fixed set)\n",
    "            e.g. Predicting the runs scored by a team in a cricket match.\n",
    "    - in our case, we want to use data to predict MVPA_minutes.week from any of the four Total Area (cm²) average scores.\n",
    "    - so, we are predicting a quantity instead of a label, which means we should use regressor.\n",
    "'''\n",
    "\n",
    "'''\n",
    "The main parameters to adjust when using these methods is n_estimators and max_features.\n",
    "In order to reduce the size of the model, you can change these parameters: \n",
    "    min_samples_split, max_leaf_nodes, max_depth and min_samples_leaf.\n",
    "# n_estimators = the number of trees in the forest. \n",
    "                The larger the better, but also the longer it takes to compute.\n",
    "# max_features = the number of features that are selected, aka how random each tree is.\n",
    "                The lower the greater the reduction of variance, but also the greater the increase in bias.\n",
    "                range = (0,1]\n",
    "# max_depth = 可以生成多少层叶子, to reduce the complexity of each tree to prevent overfitting, often not deeper than five splits\n",
    "# min_samples_split = 限制了子树继续划分的条件，如果某节点的样本数少于min_samples_split，则不会继续再尝试选择最优特征来进行划分。\n",
    "# bootstrap = True: 使用自助采样法; False: 使用整个数据集.\n",
    "'''\n",
    "\n",
    "# Set param_grid, aka the main parameters in RandomForestRegressor\n",
    "param_grid_RandomForestRegressor = {\n",
    "    'n_estimators':np.arange(10,101,10), # 从10到100，每隔10取一个\n",
    "    'max_features':np.arange(0.1,1.1,0.1), # 从0.1到1，每隔0.1取一个\n",
    "    'max_depth':np.arange(1,11),\n",
    "    #'min_samples_split':np.arange(2,10),\n",
    "    'bootstrap':[True,False]\n",
    "}\n",
    "\n",
    "# GridSearchCV\n",
    "rfg = GridSearchCV(estimator=RandomForestRegressor(), # algorithm - Random Forest Regressor\n",
    "                    param_grid=param_grid_RandomForestRegressor, # specify the parameters to search over using a dict or list of dictionaries\n",
    "                    cv=10, # 10-Fold\n",
    "                    scoring='r2'\n",
    "                    )\n",
    "\n",
    "# Build the model, aka training the dataset\n",
    "rfg.fit(X, y.values.ravel())\n",
    "\n",
    "# Output the best parameter, cross-validation score, estimator, and the index of best estimator.\n",
    "print(\"\\n------------------ RandomForestRegressor Model\")\n",
    "print(\"Best parameter: {}\".format(rfg.best_params_))\n",
    "print(\"Best score in r2: {:.2f}\".format(rfg.best_score_))\n",
    "print(\"Average score in 10-Fold: \\n\", rfg.cv_results_['mean_test_score'])\n",
    "print(\"Std score in 10-Fold: \\n\", rfg.cv_results_['std_test_score'])\n",
    "print(\"Best estimator: {}\".format(rfg.best_estimator_))\n",
    "print(\"The Index of Best estimator: {}\".format(rfg.best_index_))"
   ]
  },
  {
   "cell_type": "code",
   "execution_count": 5,
   "id": "a2923341",
   "metadata": {},
   "outputs": [
    {
     "name": "stdout",
     "output_type": "stream",
     "text": [
      "[-0.01344671 -0.95940859 -0.23637083 -0.27175228 -0.36498477 -0.13736652\n",
      " -0.0516818  -0.00601888  0.01583261 -0.03433296]\n"
     ]
    }
   ],
   "source": [
    "'''\n",
    "机器学习不同于统计建模，有些定义不一样。sklearn这个包定义的比较奇怪而已。\n",
    "https://zhuanlan.zhihu.com/p/369330147，score接近于1越好的是R2这个指标，其他的指标是接近于0越好。把负数去掉即可。\n",
    "'''\n",
    "# 10-Fold Cross-validation to check its accuracy again\n",
    "score = cross_val_score(estimator=RandomForestRegressor(max_depth=1, max_features=0.1, n_estimators=20),\n",
    "                        X=X, y=y.values.ravel(),\n",
    "                        cv=10\n",
    "                       )\n",
    "print(score)"
   ]
  },
  {
   "cell_type": "code",
   "execution_count": 6,
   "id": "5f4545cd",
   "metadata": {},
   "outputs": [],
   "source": [
    "# Use the above optimal parameters to build new model, aka training the dataset\n",
    "rfg = RandomForestRegressor(max_depth=1, max_features=0.1, n_estimators=20).fit(X, y.values.ravel())"
   ]
  },
  {
   "cell_type": "code",
   "execution_count": 7,
   "id": "f0d4ce92",
   "metadata": {},
   "outputs": [
    {
     "name": "stdout",
     "output_type": "stream",
     "text": [
      "Test set predictions:\n",
      " [-1.42204118e-04 -2.55128489e-02 -1.74509963e-02 -2.56581024e-02\n",
      " -2.55128489e-02 -5.38523299e-02 -2.56581024e-02 -2.56581024e-02\n",
      " -1.74509963e-02 -1.74509963e-02 -2.56581024e-02  4.70964150e-02\n",
      " -2.56581024e-02  7.51157010e-02  7.51157010e-02 -2.56581024e-02\n",
      "  5.33910845e-02 -2.56581024e-02  5.81373590e-03  2.38572717e-01\n",
      " -2.56581024e-02  4.70964150e-02 -1.28084501e-02 -6.85251008e-03\n",
      " -2.15276966e-02  3.44301690e-02 -2.15276966e-02 -2.56581024e-02\n",
      " -3.83243484e-02 -6.85251008e-03 -2.56581024e-02 -1.74509963e-02\n",
      " -6.19306527e-03 -1.42204118e-04 -2.56581024e-02 -2.56581024e-02\n",
      " -2.55128489e-02 -3.83243484e-02  9.39825374e-03 -3.83243484e-02\n",
      " -1.74509963e-02  3.44301690e-02 -1.74509963e-02 -3.83243484e-02\n",
      "  3.44301690e-02  3.01263523e-02 -2.15276966e-02 -3.83243484e-02\n",
      " -3.83243484e-02  3.44301690e-02  3.44301690e-02 -2.56581024e-02\n",
      "  3.44301690e-02 -3.83243484e-02  7.51157010e-02  4.70964150e-02\n",
      " -3.83243484e-02 -1.74509963e-02 -2.56581024e-02 -3.83243484e-02\n",
      " -2.56581024e-02 -3.83243484e-02 -3.83243484e-02 -3.83243484e-02\n",
      " -3.83243484e-02 -3.01172423e-02 -3.83243484e-02 -8.86145066e-03\n",
      " -3.83243484e-02  2.25906471e-01 -2.15276966e-02 -3.83243484e-02\n",
      " -2.55128489e-02 -2.56581024e-02 -2.55128489e-02 -2.56581024e-02\n",
      "  3.01263523e-02  3.44301690e-02 -2.56581024e-02 -3.01172423e-02\n",
      " -3.83243484e-02 -2.15276966e-02 -3.83243484e-02 -2.97348027e-02\n",
      " -3.83243484e-02 -3.01172423e-02  3.44301690e-02 -1.74509963e-02\n",
      " -3.83243484e-02 -8.86145066e-03 -2.84816851e-02 -2.56581024e-02\n",
      " -2.56581024e-02 -2.56581024e-02 -3.83243484e-02 -3.83243484e-02\n",
      " -3.83243484e-02 -1.74509963e-02  3.44301690e-02 -1.74509963e-02\n",
      "  2.38572717e-01 -2.55128489e-02 -3.83243484e-02 -5.38523299e-02\n",
      " -5.38523299e-02 -3.83243484e-02 -2.84816851e-02 -3.83243484e-02\n",
      "  4.70964150e-02 -3.83243484e-02 -3.83243484e-02 -2.56581024e-02\n",
      " -2.56581024e-02  1.94780303e-02 -2.56581024e-02 -8.86145066e-03\n",
      " -2.56581024e-02  3.44301690e-02 -2.56581024e-02 -1.74509963e-02\n",
      " -2.56581024e-02 -2.56581024e-02 -5.38523299e-02 -5.38523299e-02\n",
      "  3.44301690e-02 -3.83243484e-02  3.44301690e-02 -1.74509963e-02\n",
      "  3.44301690e-02  4.07248385e-02  9.50944091e-02 -2.56581024e-02\n",
      " -3.01172423e-02 -3.83243484e-02 -3.01172423e-02 -3.83243484e-02\n",
      " -2.56581024e-02  3.44301690e-02 -1.74509963e-02  3.44301690e-02\n",
      " -8.86145066e-03 -8.86145066e-03 -2.56581024e-02 -3.83243484e-02\n",
      " -5.38523299e-02  3.44301690e-02 -2.56581024e-02 -1.74509963e-02\n",
      " -2.56581024e-02 -4.11479311e-02 -3.83243484e-02 -2.15276966e-02\n",
      " -3.83243484e-02 -1.74509963e-02 -3.83243484e-02 -1.74509963e-02\n",
      " -3.83243484e-02 -3.83243484e-02 -3.01172423e-02 -3.01172423e-02\n",
      "  3.44301690e-02 -3.01172423e-02 -3.01172423e-02  6.24494551e-02\n",
      "  3.44301690e-02 -1.74509963e-02 -8.86145066e-03  1.24703071e-02\n",
      "  6.24494551e-02  4.70964150e-02 -3.83243484e-02  3.87158979e-02\n",
      "  2.20644997e-02 -2.56581024e-02  1.74601063e-02 -3.01172423e-02\n",
      " -2.56581024e-02 -2.56581024e-02  4.70964150e-02 -3.01172423e-02\n",
      " -2.15276966e-02  4.70964150e-02 -3.01172423e-02  4.70964150e-02\n",
      "  1.74601063e-02 -1.74509963e-02  4.70964150e-02  3.44301690e-02\n",
      " -1.74509963e-02 -3.83243484e-02 -1.74509963e-02 -3.83243484e-02\n",
      "  5.81373590e-03 -3.83243484e-02  7.51157010e-02 -2.56581024e-02\n",
      "  3.44301690e-02 -3.01172423e-02 -3.83243484e-02 -3.01172423e-02\n",
      "  4.70964150e-02 -1.74509963e-02  3.44301690e-02 -2.56581024e-02\n",
      "  3.44301690e-02  3.44301690e-02  4.70964150e-02 -8.86145066e-03\n",
      "  1.90956635e-02 -2.56581024e-02 -2.56581024e-02  3.44301690e-02\n",
      " -1.95938839e-04 -2.15276966e-02 -3.83243484e-02 -2.15276966e-02\n",
      " -3.83243484e-02 -6.65185758e-02  4.70964150e-02 -4.11479311e-02\n",
      "  3.44301690e-02 -1.70685568e-02  3.44301690e-02 -2.56581024e-02\n",
      " -2.56581024e-02 -2.56581024e-02 -2.56581024e-02  2.19192462e-02\n",
      " -2.56581024e-02  3.44301690e-02  5.81373590e-03 -1.74509963e-02\n",
      " -3.83243484e-02 -3.01172423e-02 -3.01172423e-02 -2.56581024e-02\n",
      " -3.83243484e-02 -2.56581024e-02 -1.70685568e-02 -3.83243484e-02\n",
      " -2.56581024e-02 -1.70685568e-02  4.70964150e-02 -3.83243484e-02\n",
      "  1.74601063e-02  1.74601063e-02 -3.83243484e-02 -8.86145066e-03\n",
      " -8.86145066e-03 -3.83243484e-02 -8.86145066e-03  3.44301690e-02\n",
      " -3.01172423e-02  2.98660988e-01 -3.83243484e-02  3.44301690e-02\n",
      " -2.56581024e-02  3.44301690e-02  3.44301690e-02 -2.56581024e-02\n",
      "  1.74601063e-02  3.02082682e-02 -3.01172423e-02 -1.74509963e-02\n",
      "  6.24494551e-02  3.44301690e-02 -3.83243484e-02  3.26680274e-01\n",
      "  3.44301690e-02 -3.01172423e-02  3.44301690e-02 -3.83243484e-02\n",
      " -1.74509963e-02 -2.56581024e-02 -1.74509963e-02  6.24494551e-02\n",
      " -3.83243484e-02 -1.74509963e-02  4.07248385e-02  4.70964150e-02\n",
      "  3.44301690e-02 -3.01172423e-02  2.98660988e-01  1.08884846e-02\n",
      "  3.44301690e-02  5.81373590e-03 -3.01172423e-02  3.44301690e-02\n",
      "  6.24494551e-02 -3.01172423e-02 -1.74509963e-02  3.44301690e-02\n",
      " -1.74509963e-02  2.98660988e-01 -3.01172423e-02 -3.01172423e-02\n",
      "  3.44301690e-02  3.44301690e-02  3.44301690e-02 -1.74509963e-02\n",
      " -1.74509963e-02  3.44301690e-02  3.01263523e-02  4.70964150e-02\n",
      "  3.01263523e-02 -3.83243484e-02 -2.56581024e-02 -2.56581024e-02\n",
      " -2.56581024e-02  4.70964150e-02  3.11327234e-01  1.74601063e-02\n",
      " -4.11479311e-02 -3.83243484e-02 -1.95938839e-04 -6.65185758e-02\n",
      " -1.89412272e-02 -2.56581024e-02  7.51157010e-02  7.51157010e-02\n",
      " -3.01172423e-02 -3.01172423e-02  3.44301690e-02 -3.83243484e-02\n",
      "  3.44301690e-02 -2.56581024e-02 -2.56581024e-02 -3.01172423e-02\n",
      " -2.56581024e-02 -6.85251008e-03  6.24494551e-02 -1.74509963e-02\n",
      "  4.70964150e-02  3.01263523e-02  6.24494551e-02  3.44301690e-02\n",
      " -3.01172423e-02 -3.83243484e-02 -2.15276966e-02 -6.65185758e-02\n",
      "  6.81178433e-03  3.44301690e-02  3.44301690e-02  1.74601063e-02\n",
      "  3.87978139e-02 -2.15276966e-02 -1.95938839e-04 -3.83243484e-02\n",
      " -2.56581024e-02 -8.86145066e-03 -2.56581024e-02 -8.86145066e-03\n",
      " -3.83243484e-02 -8.86145066e-03  4.70964150e-02 -2.56581024e-02\n",
      "  5.81373590e-03 -3.83243484e-02 -3.83243484e-02 -1.74509963e-02\n",
      " -3.83243484e-02  7.51157010e-02  6.24494551e-02 -3.83243484e-02\n",
      " -1.74509963e-02  3.44301690e-02  3.44301690e-02 -2.56581024e-02\n",
      "  3.01263523e-02 -2.15276966e-02  3.44301690e-02  3.44301690e-02\n",
      " -1.28084501e-02  3.44301690e-02  3.44301690e-02 -8.86145066e-03\n",
      "  4.70964150e-02 -3.83243484e-02 -3.01172423e-02  3.44301690e-02\n",
      "  6.42941754e-03 -6.65185758e-02 -3.83243484e-02 -3.83243484e-02\n",
      "  3.44301690e-02 -3.01172423e-02  3.44301690e-02 -3.01172423e-02\n",
      " -3.83243484e-02  3.87158979e-02 -8.86145066e-03 -3.83243484e-02\n",
      " -3.83243484e-02 -3.83243484e-02 -3.83243484e-02 -3.01172423e-02\n",
      " -6.65185758e-02 -8.86145066e-03 -3.83243484e-02 -3.83243484e-02\n",
      "  3.44301690e-02 -1.74509963e-02 -1.74509963e-02  3.44301690e-02\n",
      " -1.74509963e-02  4.70964150e-02  7.51157010e-02 -2.56581024e-02\n",
      "  3.44301690e-02 -1.74509963e-02 -3.83243484e-02 -1.74509963e-02\n",
      "  3.44301690e-02 -2.56581024e-02  3.44301690e-02 -1.74509963e-02\n",
      "  6.81178433e-03  3.44301690e-02 -1.77776135e-03  3.44301690e-02\n",
      " -2.56581024e-02  4.70964150e-02 -3.01172423e-02  3.44301690e-02\n",
      " -3.01172423e-02  3.11327234e-01  4.70964150e-02 -3.01172423e-02\n",
      " -2.55128489e-02 -3.83243484e-02 -3.83243484e-02  2.20644997e-02\n",
      "  4.70964150e-02 -1.74509963e-02 -1.74509963e-02  4.70964150e-02\n",
      "  3.44301690e-02  3.44301690e-02 -1.74509963e-02 -1.74509963e-02\n",
      " -1.74509963e-02  3.44301690e-02 -1.74509963e-02  3.44301690e-02\n",
      " -3.83243484e-02 -3.01172423e-02  3.44301690e-02  7.51157010e-02\n",
      " -2.56581024e-02 -3.83243484e-02 -3.83243484e-02 -3.83243484e-02\n",
      " -1.74509963e-02 -3.83243484e-02 -3.83243484e-02 -1.74509963e-02\n",
      " -3.83243484e-02  3.44301690e-02  7.77856168e-02  4.57995873e-02\n",
      " -2.56581024e-02 -8.86145066e-03 -8.86145066e-03 -2.56581024e-02\n",
      " -8.86145066e-03  3.44301690e-02 -3.83243484e-02 -8.86145066e-03\n",
      " -2.56581024e-02  6.42941754e-03  2.60496520e-02 -2.56581024e-02\n",
      " -2.56581024e-02  2.19192462e-02  4.70964150e-02  5.33910845e-02\n",
      " -2.56581024e-02 -3.83243484e-02 -1.74509963e-02 -8.86145066e-03\n",
      "  3.11327234e-01  2.38572717e-01 -1.74509963e-02 -1.74509963e-02\n",
      "  4.70964150e-02  4.70964150e-02 -2.56581024e-02 -3.83243484e-02\n",
      "  1.74601063e-02  2.60496520e-02  2.60496520e-02 -3.01172423e-02\n",
      " -3.83243484e-02 -1.95938839e-04 -2.56581024e-02  5.81373590e-03\n",
      " -3.83243484e-02 -1.74509963e-02 -3.83243484e-02 -3.81790949e-02\n",
      "  6.42941754e-03 -3.83243484e-02  5.43891329e-02 -3.83243484e-02\n",
      " -3.83243484e-02  1.08884846e-02 -3.83243484e-02 -2.56581024e-02\n",
      " -3.01172423e-02  6.81178433e-03 -3.83243484e-02 -3.83243484e-02\n",
      "  2.60496520e-02  3.87158979e-02  3.44301690e-02  1.74601063e-02\n",
      " -3.83243484e-02 -3.83243484e-02 -1.74509963e-02  3.44301690e-02\n",
      "  4.70964150e-02 -3.01172423e-02  3.44301690e-02  3.01263523e-02\n",
      "  3.44301690e-02 -3.01172423e-02  4.70964150e-02 -1.74509963e-02\n",
      " -1.74509963e-02 -1.74509963e-02  3.44301690e-02  3.44301690e-02\n",
      " -3.83243484e-02 -8.86145066e-03 -3.83243484e-02 -1.74509963e-02\n",
      " -3.83243484e-02 -2.55128489e-02 -3.83243484e-02 -8.86145066e-03\n",
      " -3.83243484e-02  1.90956635e-02  3.44301690e-02 -2.56581024e-02\n",
      " -2.15276966e-02 -3.83243484e-02 -3.83243484e-02 -2.56581024e-02\n",
      " -2.56581024e-02 -3.83243484e-02 -3.83243484e-02 -3.83243484e-02\n",
      "  3.44301690e-02 -2.15276966e-02 -1.74509963e-02  3.44301690e-02\n",
      " -3.83243484e-02  5.81373590e-03 -2.56581024e-02 -1.74509963e-02\n",
      "  4.70964150e-02 -3.83243484e-02 -3.81790949e-02  2.21464157e-02\n",
      " -3.83243484e-02  5.81373590e-03 -3.83243484e-02 -3.83243484e-02\n",
      " -1.74509963e-02  3.44301690e-02  3.02082682e-02  3.44301690e-02\n",
      "  7.77856168e-02 -3.01172423e-02 -3.01172423e-02  3.44301690e-02\n",
      "  4.70964150e-02 -2.97348027e-02 -3.83243484e-02 -2.56581024e-02\n",
      " -2.97348027e-02 -1.74509963e-02  3.44301690e-02 -1.74509963e-02\n",
      " -2.02553075e-02  1.08884846e-02  3.44301690e-02 -1.74509963e-02\n",
      " -3.83243484e-02 -3.01172423e-02  3.44301690e-02 -2.56581024e-02\n",
      " -3.01172423e-02 -3.01172423e-02  7.77856168e-02  4.70964150e-02\n",
      "  3.44301690e-02 -1.74509963e-02 -3.83243484e-02  3.44301690e-02\n",
      " -2.56581024e-02  6.70553789e-02  3.44301690e-02  4.75170605e-02\n",
      "  1.24703071e-02 -3.01172423e-02 -3.83243484e-02  7.51157010e-02\n",
      "  7.51157010e-02 -6.20594359e-02  7.51157010e-02  6.24494551e-02\n",
      " -3.01172423e-02 -3.83243484e-02 -3.83243484e-02  1.08884846e-02\n",
      " -2.55128489e-02  3.47688985e-02  4.70964150e-02  6.90643195e-02\n",
      "  4.70964150e-02  4.70964150e-02 -3.83243484e-02  4.70964150e-02\n",
      " -3.01172423e-02  2.20644997e-02 -3.83243484e-02 -3.83243484e-02\n",
      "  2.60496520e-02 -3.83243484e-02 -2.56581024e-02 -8.86145066e-03\n",
      " -8.86145066e-03 -2.15276966e-02 -1.74509963e-02 -3.83243484e-02\n",
      " -3.83243484e-02 -3.83243484e-02 -4.11479311e-02 -2.15276966e-02\n",
      " -3.83243484e-02 -2.15276966e-02 -3.83243484e-02  1.74601063e-02\n",
      "  3.44301690e-02]\n"
     ]
    }
   ],
   "source": [
    "yhat = rfg.predict(X)\n",
    "print(\"Test set predictions:\\n {}\".format(yhat))"
   ]
  },
  {
   "cell_type": "code",
   "execution_count": 8,
   "id": "1217a6a3",
   "metadata": {},
   "outputs": [
    {
     "data": {
      "text/plain": [
       "0.9797824547593199"
      ]
     },
     "execution_count": 8,
     "metadata": {},
     "output_type": "execute_result"
    }
   ],
   "source": [
    "from sklearn.metrics import mean_squared_error as MSE\n",
    "MSE(y_true=y, y_pred=yhat)"
   ]
  },
  {
   "cell_type": "code",
   "execution_count": 9,
   "id": "3116a518",
   "metadata": {},
   "outputs": [
    {
     "data": {
      "text/plain": [
       "-385.07071807153244"
      ]
     },
     "execution_count": 9,
     "metadata": {},
     "output_type": "execute_result"
    }
   ],
   "source": [
    "#调用R2\n",
    "from sklearn.metrics import r2_score\n",
    "r2_score(yhat,y)"
   ]
  },
  {
   "cell_type": "code",
   "execution_count": 10,
   "id": "ddb8cb18",
   "metadata": {},
   "outputs": [
    {
     "data": {
      "text/plain": [
       "0.02021754524068009"
      ]
     },
     "execution_count": 10,
     "metadata": {},
     "output_type": "execute_result"
    }
   ],
   "source": [
    "r2 = rfg.score(X,y)\n",
    "r2"
   ]
  },
  {
   "cell_type": "code",
   "execution_count": 11,
   "id": "785cb6d8",
   "metadata": {},
   "outputs": [
    {
     "data": {
      "text/plain": [
       "0.02021754524068009"
      ]
     },
     "execution_count": 11,
     "metadata": {},
     "output_type": "execute_result"
    }
   ],
   "source": [
    "r2_score(y_true = y, y_pred = yhat)"
   ]
  },
  {
   "cell_type": "code",
   "execution_count": 12,
   "id": "66301374",
   "metadata": {},
   "outputs": [
    {
     "data": {
      "text/plain": [
       "-0.20916837840938846"
      ]
     },
     "execution_count": 12,
     "metadata": {},
     "output_type": "execute_result"
    }
   ],
   "source": [
    "cross_val_score(rfg,X,y.values.ravel(),cv=10,scoring=\"r2\").mean()"
   ]
  },
  {
   "cell_type": "code",
   "execution_count": 13,
   "id": "72edba96",
   "metadata": {},
   "outputs": [
    {
     "data": {
      "image/png": "[encoded data removed]",
      "text/plain": [
       "<Figure size 432x288 with 1 Axes>"
      ]
     },
     "metadata": {
      "needs_background": "light"
     },
     "output_type": "display_data"
    }
   ],
   "source": [
    "import matplotlib.pyplot as plt\n",
    "y = dataset['MVPA']\n",
    "sorted(y)\n",
    "plt.plot(range(len(y)),sorted(y),c=\"black\",label= \"Data\")\n",
    "plt.plot(range(len(yhat)),sorted(yhat),c=\"red\",label = \"Predict\")\n",
    "plt.legend()\n",
    "plt.show()"
   ]
  },
  {
   "cell_type": "code",
   "execution_count": 7,
   "id": "212ead5a",
   "metadata": {},
   "outputs": [
    {
     "data": {
      "text/plain": [
       "'/Users/zclalala/Documents/GitHub/project-posture/x_TotalArea_y_MVPA/x_TotalArea_y_MVPA_RandomForest1.pdf'"
      ]
     },
     "execution_count": 7,
     "metadata": {},
     "output_type": "execute_result"
    }
   ],
   "source": [
    "# Draw the Random Forest\n",
    "rfg_tree = rfg.estimators_[0] # Draw the first tree\n",
    "\n",
    "# Export a decision tree w/ color in DOT format.\n",
    "dot_data = tree.export_graphviz(decision_tree=rfg_tree, # decision tree classifier\n",
    "                               filled=True, # True: paint nodes to indicate majority class for classification, extremity of values for regression, or purity of node for multi-output\n",
    "                               rounded=True, # True: draw node boxes with rounded corners and use Helvetica fonts instead of Times-Roman\n",
    "                               special_characters=True # True: do not ignore special characters for PostScript compatibility\n",
    "                               )\n",
    "\n",
    "# Output the graph\n",
    "graph = graphviz.Source(dot_data)\n",
    "graph.render(filename='x_TotalArea_y_MVPA_RandomForest1', \n",
    "            directory=path_up1Dir +'/x_TotalArea_y_MVPA')"
   ]
  },
  {
   "cell_type": "code",
   "execution_count": null,
   "id": "e2f82143",
   "metadata": {},
   "outputs": [],
   "source": []
  }
 ],
 "metadata": {
  "kernelspec": {
   "display_name": "Python 3",
   "language": "python",
   "name": "python3"
  },
  "language_info": {
   "codemirror_mode": {
    "name": "ipython",
    "version": 3
   },
   "file_extension": ".py",
   "mimetype": "text/x-python",
   "name": "python",
   "nbconvert_exporter": "python",
   "pygments_lexer": "ipython3",
   "version": "3.8.2"
  }
 },
 "nbformat": 4,
 "nbformat_minor": 5
}
