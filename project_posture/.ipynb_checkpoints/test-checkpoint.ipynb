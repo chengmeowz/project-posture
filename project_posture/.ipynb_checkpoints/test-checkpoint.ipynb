{
 "cells": [
  {
   "cell_type": "code",
   "execution_count": 1,
   "metadata": {
    "scrolled": true
   },
   "outputs": [
    {
     "data": {
      "text/html": [
       "<div>\n",
       "<style scoped>\n",
       "    .dataframe tbody tr th:only-of-type {\n",
       "        vertical-align: middle;\n",
       "    }\n",
       "\n",
       "    .dataframe tbody tr th {\n",
       "        vertical-align: top;\n",
       "    }\n",
       "\n",
       "    .dataframe thead th {\n",
       "        text-align: right;\n",
       "    }\n",
       "</style>\n",
       "<table border=\"1\" class=\"dataframe\">\n",
       "  <thead>\n",
       "    <tr style=\"text-align: right;\">\n",
       "      <th></th>\n",
       "      <th>aveTotalArea</th>\n",
       "      <th>MVPA_minutes.week</th>\n",
       "      <th>Subject</th>\n",
       "    </tr>\n",
       "  </thead>\n",
       "  <tbody>\n",
       "    <tr>\n",
       "      <th>count</th>\n",
       "      <td>644.000000</td>\n",
       "      <td>644.000000</td>\n",
       "      <td>644.000000</td>\n",
       "    </tr>\n",
       "    <tr>\n",
       "      <th>mean</th>\n",
       "      <td>10.560479</td>\n",
       "      <td>547.950311</td>\n",
       "      <td>81.888199</td>\n",
       "    </tr>\n",
       "    <tr>\n",
       "      <th>std</th>\n",
       "      <td>10.555367</td>\n",
       "      <td>672.507314</td>\n",
       "      <td>47.258298</td>\n",
       "    </tr>\n",
       "    <tr>\n",
       "      <th>min</th>\n",
       "      <td>0.410208</td>\n",
       "      <td>0.000000</td>\n",
       "      <td>1.000000</td>\n",
       "    </tr>\n",
       "    <tr>\n",
       "      <th>25%</th>\n",
       "      <td>2.163864</td>\n",
       "      <td>180.000000</td>\n",
       "      <td>41.000000</td>\n",
       "    </tr>\n",
       "    <tr>\n",
       "      <th>50%</th>\n",
       "      <td>6.725414</td>\n",
       "      <td>325.000000</td>\n",
       "      <td>82.000000</td>\n",
       "    </tr>\n",
       "    <tr>\n",
       "      <th>75%</th>\n",
       "      <td>15.825084</td>\n",
       "      <td>630.000000</td>\n",
       "      <td>123.000000</td>\n",
       "    </tr>\n",
       "    <tr>\n",
       "      <th>max</th>\n",
       "      <td>88.878046</td>\n",
       "      <td>5040.000000</td>\n",
       "      <td>163.000000</td>\n",
       "    </tr>\n",
       "  </tbody>\n",
       "</table>\n",
       "</div>"
      ],
      "text/plain": [
       "       aveTotalArea  MVPA_minutes.week     Subject\n",
       "count    644.000000         644.000000  644.000000\n",
       "mean      10.560479         547.950311   81.888199\n",
       "std       10.555367         672.507314   47.258298\n",
       "min        0.410208           0.000000    1.000000\n",
       "25%        2.163864         180.000000   41.000000\n",
       "50%        6.725414         325.000000   82.000000\n",
       "75%       15.825084         630.000000  123.000000\n",
       "max       88.878046        5040.000000  163.000000"
      ]
     },
     "execution_count": 1,
     "metadata": {},
     "output_type": "execute_result"
    }
   ],
   "source": [
    "# -*- coding: utf-8 -*-\n",
    "# pre-processing\n",
    "# author: Sunny Qu\n",
    "# modified by: Cheng Zheng (add path to get project directory, null and duplicate value checking)\n",
    "\n",
    "import os\n",
    "\n",
    "# Get the project directory\n",
    "path_current = os.getcwd() # get current path, aka this python file directory\n",
    "path_project = os.path.dirname(path_current) # go up one directory, aka find the project directory\n",
    "\n",
    "import pandas as pd # used for handling the dataset\n",
    "\n",
    "# Upload the data from excel\n",
    "dataset = pd.read_excel(path_project + '/BDS/aveTotalArea_MVPA.xlsx') # to import the dataset into a variable\n",
    "dataset.describe()"
   ]
  },
  {
   "cell_type": "code",
   "execution_count": 2,
   "metadata": {
    "scrolled": true
   },
   "outputs": [
    {
     "data": {
      "text/plain": [
       "aveTotalArea         False\n",
       "MVPA_minutes.week    False\n",
       "Subject              False\n",
       "Vision               False\n",
       "Surface              False\n",
       "dtype: bool"
      ]
     },
     "execution_count": 2,
     "metadata": {},
     "output_type": "execute_result"
    }
   ],
   "source": [
    "# Check null value\n",
    "dataset.isnull().any(axis=0)"
   ]
  },
  {
   "cell_type": "code",
   "execution_count": 3,
   "metadata": {
    "scrolled": false
   },
   "outputs": [
    {
     "data": {
      "text/plain": [
       "<bound method NDFrame._add_numeric_operations.<locals>.any of 0      False\n",
       "1      False\n",
       "2      False\n",
       "3      False\n",
       "4      False\n",
       "       ...  \n",
       "639    False\n",
       "640    False\n",
       "641    False\n",
       "642    False\n",
       "643    False\n",
       "Length: 644, dtype: bool>"
      ]
     },
     "execution_count": 3,
     "metadata": {},
     "output_type": "execute_result"
    }
   ],
   "source": [
    "# Check duplicate value\n",
    "dataset.duplicated().any"
   ]
  },
  {
   "cell_type": "code",
   "execution_count": 4,
   "metadata": {
    "scrolled": true
   },
   "outputs": [
    {
     "data": {
      "text/plain": [
       "<bound method NDFrame.head of      aveTotalArea  MVPA_minutes.week  Subject  Vision Surface\n",
       "0        0.827615               1020        1    Open    Firm\n",
       "1        0.761391               1020        1  Closed    Firm\n",
       "2        3.461411               1020        1    Open    Foam\n",
       "3        5.772925               1020        1  Closed    Foam\n",
       "4        0.632228                300        2    Open    Firm\n",
       "..            ...                ...      ...     ...     ...\n",
       "639     14.064973                355      162    Open    Foam\n",
       "640      2.055171                200      163  Closed    Firm\n",
       "641      9.373778                200      163    Open    Foam\n",
       "642      2.148530                200      163    Open    Firm\n",
       "643     10.036530                200      163  Closed    Foam\n",
       "\n",
       "[644 rows x 5 columns]>"
      ]
     },
     "execution_count": 4,
     "metadata": {},
     "output_type": "execute_result"
    }
   ],
   "source": [
    "dataset.head"
   ]
  },
  {
   "cell_type": "code",
   "execution_count": 5,
   "metadata": {
    "scrolled": true
   },
   "outputs": [
    {
     "data": {
      "text/plain": [
       "aveTotalArea         float64\n",
       "MVPA_minutes.week      int64\n",
       "Subject                int64\n",
       "Vision                object\n",
       "Surface               object\n",
       "dtype: object"
      ]
     },
     "execution_count": 5,
     "metadata": {},
     "output_type": "execute_result"
    }
   ],
   "source": [
    "dataset.dtypes"
   ]
  },
  {
   "cell_type": "code",
   "execution_count": 6,
   "metadata": {
    "scrolled": true
   },
   "outputs": [],
   "source": [
    "# Splitting the attributes into independent and dependent attributes\n",
    "X = pd.DataFrame(dataset.iloc[:,0]) # Total Area\n",
    "Y = pd.DataFrame(dataset.iloc[:,1]) # MVPA_minutes.week"
   ]
  },
  {
   "cell_type": "code",
   "execution_count": 7,
   "metadata": {},
   "outputs": [],
   "source": [
    "# Splitting the dataset into training and testing datasets\n",
    "from sklearn.model_selection import train_test_split # used for splitting training and testing data\n",
    "\n",
    "X_train, X_test, Y_train, Y_test = train_test_split(X, Y, test_size=0.2, random_state=0) # taking training set to be 80% of the original data set and testing set to be 20% of the original data set"
   ]
  },
  {
   "cell_type": "code",
   "execution_count": 8,
   "metadata": {},
   "outputs": [],
   "source": [
    "# Data Standardization\n",
    "from sklearn.preprocessing import StandardScaler # used for feature scaling\n",
    "\n",
    "sc_X = StandardScaler()\n",
    "X_train = sc_X.fit_transform(X_train)\n",
    "X_test = sc_X.transform(X_test)\n",
    "sc_Y = StandardScaler()\n",
    "Y_train = sc_Y.fit_transform(Y_train)\n",
    "Y_test = sc_Y.transform(Y_test)"
   ]
  },
  {
   "cell_type": "code",
   "execution_count": 9,
   "metadata": {},
   "outputs": [
    {
     "data": {
      "text/plain": [
       "Text(0.5, 1.0, 'Scatterplot_train: x_TotalArea_y_MVPA')"
      ]
     },
     "execution_count": 9,
     "metadata": {},
     "output_type": "execute_result"
    },
    {
     "data": {
      "image/png": "[encoded data removed]",
      "text/plain": [
       "<Figure size 360x360 with 1 Axes>"
      ]
     },
     "metadata": {
      "needs_background": "light"
     },
     "output_type": "display_data"
    }
   ],
   "source": [
    "# learning\n",
    "# author: Cheng Zheng\n",
    "import matplotlib.pyplot as plt\n",
    "%matplotlib inline\n",
    "\n",
    "# Draw a scatterplot w/ X and Y\n",
    "plt.figure(figsize = (5, 5))\n",
    "plt.scatter(X_train, Y_train)\n",
    "plt.title('Scatterplot_train: x_TotalArea_y_MVPA')"
   ]
  },
  {
   "cell_type": "code",
   "execution_count": 10,
   "metadata": {
    "scrolled": true
   },
   "outputs": [
    {
     "name": "stdout",
     "output_type": "stream",
     "text": [
      "Training set score (Ridge regression): 0.00\n",
      "Test set score (Ridge regression): -0.01\n"
     ]
    }
   ],
   "source": [
    "# Ridge regression\n",
    "from sklearn.linear_model import Ridge\n",
    "\n",
    "ridge = Ridge(alpha=.5).fit(X_train, Y_train)\n",
    "print(\"Training set score (Ridge regression): {:.2f}\".format(ridge.score(X_train, Y_train)))\n",
    "print(\"Test set score (Ridge regression): {:.2f}\".format(ridge.score(X_test, Y_test)))"
   ]
  },
  {
   "cell_type": "code",
   "execution_count": 11,
   "metadata": {
    "scrolled": true
   },
   "outputs": [
    {
     "name": "stdout",
     "output_type": "stream",
     "text": [
      "Training set score (Ridge regression w/ cross-validation): 0.00\n",
      "Test set score (Ridge regression w/ cross-validation): -0.01\n"
     ]
    }
   ],
   "source": [
    "## Leave-one-out: Cross-Validation\n",
    "import numpy as np\n",
    "from sklearn.linear_model import RidgeCV\n",
    "\n",
    "ridge_cv = RidgeCV(alphas=np.logspace(-6, 6, 13))\n",
    "print(\"Training set score (Ridge regression w/ cross-validation): {:.2f}\".format(ridge.score(X_train, Y_train)))\n",
    "print(\"Test set score (Ridge regression w/ cross-validation): {:.2f}\".format(ridge.score(X_test, Y_test)))"
   ]
  },
  {
   "cell_type": "code",
   "execution_count": 12,
   "metadata": {},
   "outputs": [],
   "source": [
    "### Optimization of the parameters???"
   ]
  },
  {
   "cell_type": "code",
   "execution_count": 13,
   "metadata": {},
   "outputs": [
    {
     "name": "stdout",
     "output_type": "stream",
     "text": [
      "Training set score (Kernel ridge regression): 0.00\n",
      "Test set score (Kernel ridge regression): -0.01\n"
     ]
    }
   ],
   "source": [
    "# Kernel ridge regression\n",
    "from sklearn.kernel_ridge import KernelRidge\n",
    "kernelRidge = KernelRidge().fit(X_train, Y_train)\n",
    "print(\"Training set score (Kernel ridge regression): {:.2f}\".format(ridge.score(X_train, Y_train)))\n",
    "print(\"Test set score (Kernel ridge regression): {:.2f}\".format(ridge.score(X_test, Y_test)))"
   ]
  },
  {
   "cell_type": "code",
   "execution_count": 14,
   "metadata": {},
   "outputs": [
    {
     "data": {
      "text/plain": [
       "'\\nfrom sklearn.model_selection import LeaveOneOut\\n\\nloo = LeaveOneOut()\\n'"
      ]
     },
     "execution_count": 14,
     "metadata": {},
     "output_type": "execute_result"
    }
   ],
   "source": [
    "## Leave-one-out: Cross-Validation\n",
    "'''\n",
    "from sklearn.model_selection import LeaveOneOut\n",
    "\n",
    "loo = LeaveOneOut()\n",
    "'''"
   ]
  },
  {
   "cell_type": "code",
   "execution_count": 15,
   "metadata": {},
   "outputs": [
    {
     "data": {
      "text/plain": [
       "'\\nadaboost = AdaBoostClassifier().fit(X_train, Y_train)\\n'"
      ]
     },
     "execution_count": 15,
     "metadata": {},
     "output_type": "execute_result"
    }
   ],
   "source": [
    "# Adaboost\n",
    "from sklearn.ensemble import AdaBoostClassifier\n",
    "'''\n",
    "adaboost = AdaBoostClassifier().fit(X_train, Y_train)\n",
    "'''"
   ]
  },
  {
   "cell_type": "code",
   "execution_count": 16,
   "metadata": {
    "scrolled": false
   },
   "outputs": [
    {
     "data": {
      "text/plain": [
       "'\\nrfc = RandomForestClassifier(n_estimators=10).fit(X_train, Y_train)\\n'"
      ]
     },
     "execution_count": 16,
     "metadata": {},
     "output_type": "execute_result"
    }
   ],
   "source": [
    "# Random Forest\n",
    "from sklearn.ensemble import RandomForestClassifier\n",
    "'''\n",
    "rfc = RandomForestClassifier(n_estimators=10).fit(X_train, Y_train)\n",
    "'''"
   ]
  },
  {
   "cell_type": "code",
   "execution_count": 17,
   "metadata": {},
   "outputs": [
    {
     "data": {
      "text/plain": [
       "'\\nfrom sklearn.model_selection import cross_val_score\\nrfc_cv = cross_val_score(rfc, X_train, Y_train, cv=10)\\nplt.plot(range(1, 11), rfc_cv, label=\"Random Forest\")\\nplt.legend()\\nplt.show()\\nprint(\"%0.2f accuracy with a standard deviation of %0.2f\" % (rfc_cv.mean(), rfc_cv.std()))\\n'"
      ]
     },
     "execution_count": 17,
     "metadata": {},
     "output_type": "execute_result"
    }
   ],
   "source": [
    "# cross-validation\n",
    "# how to estimate the accuracy of a linear kernel support vector machine on the iris dataset \n",
    "#     by splitting the data, fitting a model and computing the score 10 consecutive times \n",
    "#     (with different splits each time)\n",
    "'''\n",
    "from sklearn.model_selection import cross_val_score\n",
    "rfc_cv = cross_val_score(rfc, X_train, Y_train, cv=10)\n",
    "plt.plot(range(1, 11), rfc_cv, label=\"Random Forest\")\n",
    "plt.legend()\n",
    "plt.show()\n",
    "print(\"%0.2f accuracy with a standard deviation of %0.2f\" % (rfc_cv.mean(), rfc_cv.std()))\n",
    "'''"
   ]
  },
  {
   "cell_type": "code",
   "execution_count": 18,
   "metadata": {},
   "outputs": [
    {
     "data": {
      "text/plain": [
       "\"\\nclf = MLPClassifier(solver='lbfgs', alpha=1e-5, hidden_layer_sizes=(5, 2), random_state=1).fit(X_train, Y_train)\\n\""
      ]
     },
     "execution_count": 18,
     "metadata": {},
     "output_type": "execute_result"
    }
   ],
   "source": [
    "# Neural network\n",
    "from sklearn.neural_network import MLPClassifier\n",
    "'''\n",
    "clf = MLPClassifier(solver='lbfgs', alpha=1e-5, hidden_layer_sizes=(5, 2), random_state=1).fit(X_train, Y_train)\n",
    "'''"
   ]
  },
  {
   "cell_type": "code",
   "execution_count": 19,
   "metadata": {},
   "outputs": [],
   "source": [
    "# Support vector machine\n",
    "from sklearn import svm\n",
    "\n",
    "regr = svm.SVR().fit(X_train, np.ravel(Y_train))"
   ]
  },
  {
   "cell_type": "code",
   "execution_count": null,
   "metadata": {},
   "outputs": [],
   "source": []
  }
 ],
 "metadata": {
  "kernelspec": {
   "display_name": "Python 3",
   "language": "python",
   "name": "python3"
  },
  "language_info": {
   "codemirror_mode": {
    "name": "ipython",
    "version": 3
   },
   "file_extension": ".py",
   "mimetype": "text/x-python",
   "name": "python",
   "nbconvert_exporter": "python",
   "pygments_lexer": "ipython3",
   "version": "3.8.8"
  }
 },
 "nbformat": 4,
 "nbformat_minor": 4
}
