{
 "cells": [
  {
   "cell_type": "code",
   "execution_count": 16,
   "id": "2c9187e0",
   "metadata": {},
   "outputs": [],
   "source": [
    "import os\n",
    "import numpy as np\n",
    "import pandas as pd\n",
    "\n",
    "# Machine learning algorithms\n",
    "from sklearn.neural_network import MLPRegressor #Neural network\n",
    "\n",
    "# Cross-validation\n",
    "'''\n",
    "GridSearchCV = Perform an optimization of the parameters. 可以保证在指定的参数范围内找到精度最高的参数\n",
    "                1. search for the best parameters for model; \n",
    "                2. automatically fit a new model on the training dataset w/ the parameters that \n",
    "                    can yield the best cross-validation performance.\n",
    "cross_val_score = to implement cross-validation in scikit-learn.\n",
    "PS: When an integer is passed to the cv parameter of cross_val_score():\n",
    "        cv=int (same as cv=StratifiedKFold(n_splits=int)) is used if the estimator is a classifier \n",
    "        and y is either binary or multiclass; In all other cases, KFold is used.\n",
    "        i.e. 写int=10会自动转换为KFold(n_splits=10),不会转换为StratifiedKFold(n_splits=10)。\n",
    "'''\n",
    "from sklearn.model_selection import GridSearchCV, cross_val_score\n",
    "\n",
    "path = os.getcwd()#get current path\n",
    "path_up1Dir = os.path.dirname(path)#go up one directory\n",
    "dataset = pd.read_excel(path_up1Dir +'/x_TotalArea_y_MVPA/x_TotalArea_y_MVPA.xlsx')#to import the preprocessed dataset into a variable\n",
    "\n",
    "# print(dataset)"
   ]
  },
  {
   "cell_type": "code",
   "execution_count": 8,
   "id": "3384dbc4",
   "metadata": {},
   "outputs": [],
   "source": [
    "X = dataset['X']\n",
    "y = dataset['Y']\n",
    "other = pd.DataFrame(dataset.iloc[:,:4])\n",
    "# print(X, y, other)"
   ]
  },
  {
   "cell_type": "code",
   "execution_count": 9,
   "id": "cb1d9eb2",
   "metadata": {},
   "outputs": [],
   "source": [
    "X_ = X.values.reshape(-1, 1) # some algorithms need to reshape X if X has a single feature"
   ]
  },
  {
   "cell_type": "code",
   "execution_count": 20,
   "id": "22994d3b",
   "metadata": {},
   "outputs": [
    {
     "name": "stdout",
     "output_type": "stream",
     "text": [
      "\n",
      "------------------ MLPRegressor Model\n",
      "Best parameter: {'alpha': 0.0001}\n",
      "Best cross-validation score: -0.19\n",
      "Average score in 10-Fold: \n",
      " [-0.19168567 -0.19242123 -0.19828358 -0.18844595 -0.19737971 -0.19313934]\n",
      "Std score in 10-Fold: \n",
      " [0.2583621  0.26149932 0.26166821 0.25504141 0.26253617 0.26239386]\n",
      "Best estimator: MLPRegressor()\n",
      "The Index of Best estimator: 3\n"
     ]
    }
   ],
   "source": [
    "# Neural Network\n",
    "'''\n",
    "Both MLPRegressor and MLPClassifier use parameter alpha for regularization (L2 regularization) term \n",
    "    which helps in avoiding overfitting by penalizing weights with large magnitudes.\n",
    "Finding a reasonable regularization parameter is best done using GridSearchCV, usually in the range 10.0 ** -np.arange(1, 7).\n",
    "# alpha = L2 penalty (regularization term) parameter.\n",
    "'''\n",
    "alpha = 10.0 ** -np.arange(1, 7)\n",
    "\n",
    "# Set param_grid, aka the main parameters in RandomForestRegressor\n",
    "param_grid_MLPRegressor = {\n",
    "    'alpha':alpha\n",
    "}\n",
    "\n",
    "# GridSearchCV\n",
    "mlpr = GridSearchCV(estimator=MLPRegressor(), # algorithm - Random Forest Regressor\n",
    "                    param_grid=param_grid_MLPRegressor, # specify the parameters to search over using a dict or list of dictionaries\n",
    "                    cv=10 # 10-Fold\n",
    "                    )\n",
    "\n",
    "# Build the model, aka training the dataset\n",
    "mlpr.fit(X_, y)\n",
    "\n",
    "# Output the best parameter, cross-validation score, estimator, and the index of best estimator.\n",
    "print(\"\\n------------------ MLPRegressor Model\")\n",
    "print(\"Best parameter: {}\".format(mlpr.best_params_))\n",
    "print(\"Best cross-validation score: {:.2f}\".format(mlpr.best_score_))\n",
    "print(\"Average score in 10-Fold: \\n\", mlpr.cv_results_['mean_test_score'])\n",
    "print(\"Std score in 10-Fold: \\n\", mlpr.cv_results_['std_test_score'])\n",
    "print(\"Best estimator: {}\".format(mlpr.best_estimator_))\n",
    "print(\"The Index of Best estimator: {}\".format(mlpr.best_index_))"
   ]
  },
  {
   "cell_type": "code",
   "execution_count": 10,
   "id": "0acc3a18",
   "metadata": {
    "scrolled": true
   },
   "outputs": [
    {
     "name": "stdout",
     "output_type": "stream",
     "text": [
      "[-0.0385864  -0.8665096  -0.26017276 -0.24291687 -0.36517094 -0.08115684\n",
      " -0.02719589 -0.00357203  0.0106114  -0.02317818]\n"
     ]
    }
   ],
   "source": [
    "'''\n",
    "机器学习不同于统计建模，有些定义不一样。sklearn这个包定义的比较奇怪而已。\n",
    "https://zhuanlan.zhihu.com/p/369330147，score接近于1越好的是R2这个指标，其他的指标是接近于0越好。把负数去掉即可。\n",
    "'''\n",
    "# 10-Fold Cross-validation to check its accuracy again\n",
    "score = cross_val_score(estimator=MLPRegressor(alpha=0.0001),\n",
    "                        X=X_, y=y,\n",
    "                        cv=10\n",
    "                       )\n",
    "print(score)"
   ]
  },
  {
   "cell_type": "code",
   "execution_count": 21,
   "id": "d84d2d09",
   "metadata": {},
   "outputs": [],
   "source": [
    "# Use the above optimal parameters to build new model, aka training the dataset\n",
    "mlpr = MLPRegressor(alpha=0.0001).fit(X_, y)"
   ]
  },
  {
   "cell_type": "code",
   "execution_count": null,
   "id": "c52e7604",
   "metadata": {},
   "outputs": [],
   "source": []
  }
 ],
 "metadata": {
  "kernelspec": {
   "display_name": "Python 3",
   "language": "python",
   "name": "python3"
  },
  "language_info": {
   "codemirror_mode": {
    "name": "ipython",
    "version": 3
   },
   "file_extension": ".py",
   "mimetype": "text/x-python",
   "name": "python",
   "nbconvert_exporter": "python",
   "pygments_lexer": "ipython3",
   "version": "3.8.2"
  }
 },
 "nbformat": 4,
 "nbformat_minor": 5
}
