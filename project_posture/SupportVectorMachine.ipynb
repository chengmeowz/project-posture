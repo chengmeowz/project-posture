{
 "cells": [
  {
   "cell_type": "code",
   "execution_count": 9,
   "id": "eeeecc04",
   "metadata": {},
   "outputs": [],
   "source": [
    "import os\n",
    "import numpy as np\n",
    "import pandas as pd\n",
    "import matplotlib.pyplot as plt\n",
    "import mglearn\n",
    "\n",
    "# Machine learning algorithms\n",
    "from sklearn.svm import SVR #Support vector machine\n",
    "\n",
    "# Cross-validation\n",
    "'''\n",
    "GridSearchCV = Perform an optimization of the parameters. 可以保证在指定的参数范围内找到精度最高的参数\n",
    "                1. search for the best parameters for model; \n",
    "                2. automatically fit a new model on the training dataset w/ the parameters that \n",
    "                    can yield the best cross-validation performance.\n",
    "cross_val_score = to implement cross-validation in scikit-learn.\n",
    "PS: When an integer is passed to the cv parameter of cross_val_score():\n",
    "        cv=int (same as cv=StratifiedKFold(n_splits=int)) is used if the estimator is a classifier \n",
    "        and y is either binary or multiclass; In all other cases, KFold is used.\n",
    "        i.e. 写int=10会自动转换为KFold(n_splits=10),不会转换为StratifiedKFold(n_splits=10)。\n",
    "'''\n",
    "from sklearn.model_selection import GridSearchCV, cross_val_score\n",
    "\n",
    "path = os.getcwd()#get current path\n",
    "path_up1Dir = os.path.dirname(path)#go up one directory\n",
    "dataset = pd.read_excel(path_up1Dir +'/x_TotalArea_y_MVPA/x_TotalArea_y_MVPA.xlsx')#to import the preprocessed dataset into a variable\n",
    "\n",
    "# print(dataset)"
   ]
  },
  {
   "cell_type": "code",
   "execution_count": 3,
   "id": "03eb8f39",
   "metadata": {},
   "outputs": [],
   "source": [
    "X = dataset['X']\n",
    "y = dataset['Y']\n",
    "other = pd.DataFrame(dataset.iloc[:,:4])\n",
    "# print(X, y, other)"
   ]
  },
  {
   "cell_type": "code",
   "execution_count": 4,
   "id": "9a6ffc07",
   "metadata": {},
   "outputs": [],
   "source": [
    "X_ = X.values.reshape(-1, 1) # some algorithms need to reshape X if X has a single feature"
   ]
  },
  {
   "cell_type": "code",
   "execution_count": 5,
   "id": "65873a5b",
   "metadata": {},
   "outputs": [
    {
     "name": "stdout",
     "output_type": "stream",
     "text": [
      "\n",
      "------------------ SVR Model\n",
      "Best parameter: {'C': 100.0, 'gamma': 0.01, 'kernel': 'rbf'}\n",
      "Best cross-validation score: -0.17\n",
      "Average score in 10-Fold: \n",
      " [-0.16795772 -0.16795242 -0.1679313  -0.1680712  -0.16825382 -0.16574836\n",
      " -0.16802124 -0.18226106 -0.20771552 -0.16660053 -0.16572985 -0.16847416\n",
      " -0.20203138 -0.23165627 -0.16547864 -0.1690453  -0.17731807 -0.21361977\n",
      " -0.28358419 -0.16599318 -0.22610782 -0.18253693 -0.26647783 -0.4108293 ]\n",
      "Std score in 10-Fold: \n",
      " [0.20250014 0.20250376 0.20253952 0.20267362 0.20028918 0.19345425\n",
      " 0.18986577 0.17860341 0.19486044 0.20090977 0.19135861 0.18378709\n",
      " 0.1857279  0.20090539 0.19362998 0.19075224 0.18584704 0.19395365\n",
      " 0.23316949 0.19182596 0.2372447  0.1819916  0.26638158 0.52014619]\n",
      "Best estimator: SVR(C=100.0, gamma=0.01)\n",
      "The Index of Best estimator: 14\n"
     ]
    }
   ],
   "source": [
    "# Support Vector Machine\n",
    "'''\n",
    "Hyper-parameters are parameters that are not directly learnt within estimators. \n",
    "    In scikit-learn they are passed as arguments to the constructor of the estimator classes. \n",
    "    Typical examples include C, kernel and gamma for Support Vector Classifier.\n",
    "# kernel = Specifies the kernel type to be used in the algorithm. \n",
    "    It must be one of ‘linear’, ‘poly’, ‘rbf’, ‘sigmoid’, ‘precomputed’ or a callable. \n",
    "    If none is given, ‘rbf’ will be used. If a callable is given it is used to precompute the kernel matrix.\n",
    "# C = Regularization parameter. The strength of the regularization is inversely proportional to C. \n",
    "    Must be strictly positive. The penalty is a squared l2 penalty.\n",
    "# gamma = Kernel coefficient for ‘rbf’, ‘poly’ and ‘sigmoid’.\n",
    "    if gamma='scale' (default) is passed then it uses 1 / (n_features * X.var()) as value of gamma,\n",
    "    if ‘auto’, uses 1 / n_features.\n",
    "'''\n",
    "\n",
    "# Set param_grid, aka the main parameters in RandomForestRegressor\n",
    "param_grid_SVR = [\n",
    "    {'kernel': ['linear'],\n",
    "     'C':np.logspace(0,3,4)\n",
    "    },\n",
    "    {'kernel': ['rbf'],\n",
    "     'gamma':np.logspace(-2,2,5),\n",
    "     'C':np.logspace(0,3,4)\n",
    "    },\n",
    "]\n",
    "\n",
    "# GridSearchCV\n",
    "svr = GridSearchCV(estimator=SVR(), # algorithm - AdaBoost Regressor\n",
    "                    param_grid=param_grid_SVR, # specify the parameters to search over using a dict or list of dictionaries\n",
    "                    cv=10 # 10-Fold\n",
    "                    )\n",
    "\n",
    "# Build the model, aka training the dataset\n",
    "svr.fit(X_, y)\n",
    "\n",
    "# Output the best parameter, cross-validation score, estimator, and the index of best estimator.\n",
    "print(\"\\n------------------ SVR Model\")\n",
    "print(\"Best parameter: {}\".format(svr.best_params_))\n",
    "print(\"Best cross-validation score: {:.2f}\".format(svr.best_score_))\n",
    "print(\"Average score in 10-Fold: \\n\", svr.cv_results_['mean_test_score'])\n",
    "print(\"Std score in 10-Fold: \\n\", svr.cv_results_['std_test_score'])\n",
    "print(\"Best estimator: {}\".format(svr.best_estimator_))\n",
    "print(\"The Index of Best estimator: {}\".format(svr.best_index_))"
   ]
  },
  {
   "cell_type": "code",
   "execution_count": 6,
   "id": "845e9db9",
   "metadata": {},
   "outputs": [
    {
     "name": "stdout",
     "output_type": "stream",
     "text": [
      "[-0.08413322 -0.0363834  -0.06139117 -0.0303318  -0.72497408 -0.15488232\n",
      " -0.20934822 -0.12477251 -0.13121991 -0.09734975]\n"
     ]
    }
   ],
   "source": [
    "'''\n",
    "机器学习不同于统计建模，有些定义不一样。sklearn这个包定义的比较奇怪而已。\n",
    "https://zhuanlan.zhihu.com/p/369330147，score接近于1越好的是R2这个指标，其他的指标是接近于0越好。把负数去掉即可。\n",
    "'''\n",
    "# 10-Fold Cross-validation to check its accuracy again\n",
    "score = cross_val_score(estimator=SVR(C=100.0, gamma=0.01, kernel='rbf'),\n",
    "                        X=X_, y=y,\n",
    "                        cv=10\n",
    "                       )\n",
    "print(score)"
   ]
  },
  {
   "cell_type": "code",
   "execution_count": 7,
   "id": "a4cb13e1",
   "metadata": {},
   "outputs": [],
   "source": [
    "# Use the above optimal parameters to build new model, aka training the dataset\n",
    "svr = SVR(C=100.0, gamma=0.01, kernel='rbf').fit(X_, y)"
   ]
  },
  {
   "cell_type": "code",
   "execution_count": 18,
   "id": "fdcef3df",
   "metadata": {},
   "outputs": [
    {
     "data": {
      "image/png": "[encoded data removed]",
      "text/plain": [
       "<Figure size 432x288 with 1 Axes>"
      ]
     },
     "metadata": {
      "needs_background": "light"
     },
     "output_type": "display_data"
    }
   ],
   "source": [
    "# Draw the Support Vector Machine\n",
    "## Plot support vectors\n",
    "sv = svr.support_vectors_\n",
    "## Class labels of support vectors are given by the sign of the dual coefficient\n",
    "sv_labels = svr.dual_coef_.ravel() > 0\n",
    "mglearn.discrete_scatter(sv[:,0], sv_labels, s=15, markeredgewidth=3)\n",
    "plt.xlabel('TotalArea')\n",
    "plt.ylabel('MVPA_minutes.week')\n",
    "\n",
    "plt.savefig(path_up1Dir +'/x_TotalArea_y_MVPA/x_TotalArea_y_MVPA_SupportVectorMachine.png')\n",
    "plt.show()"
   ]
  },
  {
   "cell_type": "code",
   "execution_count": null,
   "id": "94e56e25",
   "metadata": {},
   "outputs": [],
   "source": []
  }
 ],
 "metadata": {
  "kernelspec": {
   "display_name": "Python 3",
   "language": "python",
   "name": "python3"
  },
  "language_info": {
   "codemirror_mode": {
    "name": "ipython",
    "version": 3
   },
   "file_extension": ".py",
   "mimetype": "text/x-python",
   "name": "python",
   "nbconvert_exporter": "python",
   "pygments_lexer": "ipython3",
   "version": "3.8.2"
  }
 },
 "nbformat": 4,
 "nbformat_minor": 5
}
