{
 "cells": [
  {
   "cell_type": "code",
   "execution_count": 4,
   "id": "eeeecc04",
   "metadata": {},
   "outputs": [],
   "source": [
    "import os\n",
    "import numpy as np\n",
    "import pandas as pd\n",
    "\n",
    "# Machine learning algorithms\n",
    "from sklearn.svm import SVR #Support vector machine\n",
    "\n",
    "# Cross-validation\n",
    "'''\n",
    "GridSearchCV = Perform an optimization of the parameters. 可以保证在指定的参数范围内找到精度最高的参数\n",
    "                1. search for the best parameters for model; \n",
    "                2. automatically fit a new model on the training dataset w/ the parameters that \n",
    "                    can yield the best cross-validation performance.\n",
    "cross_val_score = to implement cross-validation in scikit-learn.\n",
    "PS: When an integer is passed to the cv parameter of cross_val_score():\n",
    "        cv=int (same as cv=StratifiedKFold(n_splits=int)) is used if the estimator is a classifier \n",
    "        and y is either binary or multiclass; In all other cases, KFold is used.\n",
    "        i.e. 写int=10会自动转换为KFold(n_splits=10),不会转换为StratifiedKFold(n_splits=10)。\n",
    "'''\n",
    "from sklearn.model_selection import GridSearchCV, cross_val_score\n",
    "\n",
    "path = os.getcwd()#get current path\n",
    "path_up1Dir = os.path.dirname(path)#go up one directory\n",
    "dataset = pd.read_excel(path_up1Dir +'/x_TotalArea_y_MVPA/x_TotalArea_y_MVPA.xlsx')#to import the preprocessed dataset into a variable\n",
    "\n",
    "# print(dataset)"
   ]
  },
  {
   "cell_type": "code",
   "execution_count": 2,
   "id": "03eb8f39",
   "metadata": {},
   "outputs": [],
   "source": [
    "X = dataset['X']\n",
    "y = dataset['Y']\n",
    "other = pd.DataFrame(dataset.iloc[:,:4])\n",
    "# print(X, y, other)"
   ]
  },
  {
   "cell_type": "code",
   "execution_count": 3,
   "id": "9a6ffc07",
   "metadata": {},
   "outputs": [],
   "source": [
    "X_ = X.values.reshape(-1, 1) # some algorithms need to reshape X if X has a single feature"
   ]
  },
  {
   "cell_type": "code",
   "execution_count": null,
   "id": "65873a5b",
   "metadata": {},
   "outputs": [],
   "source": [
    "# Support Vector Machine\n",
    "'''\n",
    "The number of weak learners is controlled by the parameter n_estimators. \n",
    "The learning_rate parameter controls the contribution of the weak learners in the final combination. \n",
    "# kernel = Specifies the kernel type to be used in the algorithm. \n",
    "    It must be one of ‘linear’, ‘poly’, ‘rbf’, ‘sigmoid’, ‘precomputed’ or a callable. \n",
    "    If none is given, ‘rbf’ will be used. If a callable is given it is used to precompute the kernel matrix.\n",
    "# C = Regularization parameter. The strength of the regularization is inversely proportional to C. \n",
    "    Must be strictly positive. The penalty is a squared l2 penalty.\n",
    "# gamma?\n",
    "'''\n",
    "\n",
    "# Set param_grid, aka the main parameters in RandomForestRegressor\n",
    "param_grid_SVR = {\"kernel\": (\"linear\", \"rbf\"), \n",
    "                  \"C\": range(1, 100)\n",
    "}\n",
    "\n",
    "# GridSearchCV\n",
    "svr = GridSearchCV(estimator=SVR(), # algorithm - AdaBoost Regressor\n",
    "                    param_grid=param_grid_SVR, # specify the parameters to search over using a dict or list of dictionaries\n",
    "                    cv=10 # 10-Fold\n",
    "                    )\n",
    "\n",
    "# Build the model, aka training the dataset\n",
    "svr.fit(X_, y)\n",
    "\n",
    "# Output the best parameter, cross-validation score, estimator, and the index of best estimator.\n",
    "print(\"\\n------------------ SVR Model\")\n",
    "print(\"Best parameter: {}\".format(svr.best_params_))\n",
    "print(\"Best cross-validation score: {:.2f}\".format(svr.best_score_))\n",
    "print(\"Average score in 10-Fold: \\n\", svr.cv_results_['mean_test_score'])\n",
    "print(\"Std score in 10-Fold: \\n\", svr.cv_results_['std_test_score'])\n",
    "print(\"Best estimator: {}\".format(svr.best_estimator_))\n",
    "print(\"The Index of Best estimator: {}\".format(svr.best_index_))"
   ]
  },
  {
   "cell_type": "code",
   "execution_count": null,
   "id": "845e9db9",
   "metadata": {},
   "outputs": [],
   "source": [
    "'''\n",
    "机器学习不同于统计建模，有些定义不一样。sklearn这个包定义的比较奇怪而已。\n",
    "https://zhuanlan.zhihu.com/p/369330147，score接近于1越好的是R2这个指标，其他的指标是接近于0越好。把负数去掉即可。\n",
    "'''\n",
    "# 10-Fold Cross-validation to check its accuracy again\n",
    "score = cross_val_score(estimator=RandomForestRegressor(max_depth=2, max_features=0.8, n_estimators=30),\n",
    "                        X=X_, y=y,\n",
    "                        cv=10\n",
    "                       )\n",
    "print(score)"
   ]
  },
  {
   "cell_type": "code",
   "execution_count": null,
   "id": "a4cb13e1",
   "metadata": {},
   "outputs": [],
   "source": [
    "# Use the above optimal parameters to build new model, aka training the dataset\n",
    "svr = RandomForestRegressor(max_depth=2, max_features=0.8, n_estimators=30).fit(X_, y)"
   ]
  },
  {
   "cell_type": "code",
   "execution_count": null,
   "id": "fdcef3df",
   "metadata": {},
   "outputs": [],
   "source": [
    "# Draw the SupportVectorMachine"
   ]
  }
 ],
 "metadata": {
  "kernelspec": {
   "display_name": "Python 3",
   "language": "python",
   "name": "python3"
  },
  "language_info": {
   "codemirror_mode": {
    "name": "ipython",
    "version": 3
   },
   "file_extension": ".py",
   "mimetype": "text/x-python",
   "name": "python",
   "nbconvert_exporter": "python",
   "pygments_lexer": "ipython3",
   "version": "3.8.2"
  }
 },
 "nbformat": 4,
 "nbformat_minor": 5
}
