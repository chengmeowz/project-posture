{
 "cells": [
  {
   "cell_type": "code",
   "execution_count": 1,
   "id": "2eaaae3c",
   "metadata": {},
   "outputs": [],
   "source": [
    "# -*- coding: utf-8 -*-\n",
    "# learning\n",
    "# author: Cheng Zheng\n",
    "\n",
    "import os\n",
    "import numpy as np\n",
    "import pandas as pd\n",
    "\n",
    "# Machine learning algorithms\n",
    "from sklearn.kernel_ridge import KernelRidge #Kernel ridge regression\n",
    "\n",
    "# Cross-validation\n",
    "'''\n",
    "GridSearchCV = Perform an optimization of the parameters. 可以保证在指定的参数范围内找到精度最高的参数\n",
    "                1. search for the best parameters for model; \n",
    "                2. automatically fit a new model on the training dataset w/ the parameters that \n",
    "                    can yield the best cross-validation performance.\n",
    "cross_val_score = to implement cross-validation in scikit-learn.\n",
    "KFold: just to divide the dataset.\n",
    "    - When an integer is passed to the cv parameter of cross_val_score():\n",
    "        cv=int (same as cv=StratifiedKFold(n_splits=int)) is used if the estimator is a classifier \n",
    "        and y is either binary or multiclass; In all other cases, KFold is used.\n",
    "'''\n",
    "from sklearn.model_selection import GridSearchCV, cross_val_score, KFold\n",
    "\n",
    "path = os.getcwd()#get current path\n",
    "path_up1Dir = os.path.dirname(path)#go up one directory\n",
    "dataset = pd.read_excel(path_up1Dir +'/x_TotalArea_y_MVPA/x_TotalArea_y_MVPA.xlsx')#to import the preprocessed dataset into a variable\n",
    "\n",
    "# print(dataset)"
   ]
  },
  {
   "cell_type": "code",
   "execution_count": 2,
   "id": "dba8cd63",
   "metadata": {},
   "outputs": [],
   "source": [
    "X = dataset['X']\n",
    "y = dataset['Y']\n",
    "other = pd.DataFrame(dataset.iloc[:,:4])\n",
    "# print(X, y, other)"
   ]
  },
  {
   "cell_type": "code",
   "execution_count": 3,
   "id": "34aeb1fb",
   "metadata": {},
   "outputs": [],
   "source": [
    "X_ = X.values.reshape(-1, 1) # some algorithms need to reshape X if X has a single feature"
   ]
  },
  {
   "cell_type": "code",
   "execution_count": 4,
   "id": "c1e39e01",
   "metadata": {},
   "outputs": [
    {
     "name": "stdout",
     "output_type": "stream",
     "text": [
      "\n",
      "------------------ Kernel Ridge Regression Model\n",
      "Best parameter: {'alpha': 100.0, 'kernel': 'linear'}\n",
      "Best cross-validation score: -0.16\n",
      "Average score in 10-Fold: \n",
      " [-0.19240391 -0.19635394 -0.21763105 -0.31611868 -0.62420703 -0.19204744\n",
      " -0.19395708 -0.21539053 -0.31050308 -0.55224789 -0.19184661 -0.1893635\n",
      " -0.21312702 -0.29991644 -0.51572486 -0.1918302  -0.18585448 -0.21095194\n",
      " -0.28834158 -0.49073462 -0.19195999 -0.1850942  -0.20893572 -0.27840291\n",
      " -0.46942338 -0.19219947 -0.1860981  -0.20709903 -0.2706934  -0.44924276\n",
      " -0.1925013  -0.18755016 -0.20544648 -0.2642576  -0.4288102  -0.19278801\n",
      " -0.18915885 -0.20393958 -0.25793691 -0.40720226 -0.19299456 -0.19100033\n",
      " -0.20248363 -0.2511713  -0.38453595 -0.19309864 -0.1927512  -0.20096786\n",
      " -0.24398556 -0.36203686 -0.19309934 -0.19391819 -0.19925489 -0.23665063\n",
      " -0.34078871 -0.1929869  -0.19431462 -0.19714036 -0.22938701 -0.32071406\n",
      " -0.19273284 -0.19408751 -0.19439767 -0.22224438 -0.30092929 -0.19229979\n",
      " -0.19348302 -0.19097613 -0.21514037 -0.28057535 -0.191666   -0.19267546\n",
      " -0.18724215 -0.20793797 -0.2593996  -0.19084437 -0.19171544 -0.18389487\n",
      " -0.20047789 -0.23805599 -0.18985027 -0.19051684 -0.18141652 -0.19268647\n",
      " -0.21796928 -0.18861321 -0.18888255 -0.17959004 -0.1848157  -0.20060276\n",
      " -0.18691528 -0.18658471 -0.17765693 -0.17748919 -0.18664176 -0.18442129\n",
      " -0.18342429 -0.17491733 -0.17126008 -0.17594202 -0.15686819 -0.15686818\n",
      " -0.15686817 -0.15686815 -0.15686811 -0.15686804 -0.15686791 -0.15686767\n",
      " -0.15686724 -0.15686644 -0.15686498 -0.1568623  -0.1568574  -0.15684846\n",
      " -0.15683219 -0.15680279 -0.15675021 -0.15665807 -0.15650216 -0.15625353]\n",
      "Std score in 10-Fold: \n",
      " [0.26130319 0.25416953 0.25291882 0.26182037 0.40713921 0.26157529\n",
      " 0.25334388 0.25265541 0.25760564 0.38914723 0.2621506  0.25357268\n",
      " 0.25215239 0.24968462 0.38211153 0.26308034 0.25401694 0.25144846\n",
      " 0.24195161 0.37514057 0.26441558 0.25405203 0.25057742 0.23624028\n",
      " 0.36799789 0.26606146 0.25436585 0.24959093 0.232742   0.36050002\n",
      " 0.26776048 0.25572994 0.24859007 0.23123979 0.35209275 0.26925291\n",
      " 0.25811588 0.24768735 0.2315206  0.34193124 0.27042573 0.26084512\n",
      " 0.24695228 0.23327594 0.32992233 0.27130791 0.26313236 0.24644001\n",
      " 0.23598942 0.31690293 0.27198375 0.26462376 0.2462081  0.23893513\n",
      " 0.30368236 0.27253547 0.26545553 0.24622093 0.24138157 0.29060149\n",
      " 0.27303526 0.26599468 0.24631461 0.24289225 0.27810015 0.27354417\n",
      " 0.26658164 0.24641331 0.2434912  0.26692789 0.27407953 0.26736998\n",
      " 0.24675981 0.24356491 0.25770856 0.2745541  0.26826574 0.24776014\n",
      " 0.24353476 0.25086192 0.27473468 0.26896828 0.24951231 0.24353709\n",
      " 0.24650499 0.27426642 0.269071   0.25145827 0.24339079 0.24386698\n",
      " 0.27272679 0.26810889 0.25250478 0.24273007 0.24151873 0.2696634\n",
      " 0.26556447 0.25160356 0.24114026 0.23855423 0.22054975 0.22054975\n",
      " 0.22054977 0.22054979 0.22054983 0.2205499  0.22055004 0.22055029\n",
      " 0.22055075 0.22055159 0.22055313 0.22055596 0.22056112 0.22057056\n",
      " 0.22058777 0.22061898 0.22067512 0.22077458 0.2209461  0.22122866]\n",
      "Best estimator: KernelRidge(alpha=100.0)\n",
      "The Index of Best estimator: 119\n"
     ]
    }
   ],
   "source": [
    "# Kernel ridge regression\n",
    "'''\n",
    "(same as svr)\n",
    "# kernel = Kernel mapping used internally. This parameter is directly passed to pairwise_kernel. \n",
    "    If kernel is a string, it must be one of the metrics in pairwise.PAIRWISE_KERNEL_FUNCTIONS. \n",
    "    If kernel is “precomputed”, X is assumed to be a kernel matrix. \n",
    "    Alternatively, if kernel is a callable function, it is called on each pair of instances (rows) \n",
    "        and the resulting value recorded. \n",
    "    The callable should take two rows from X as input and return the corresponding kernel value as a single number. \n",
    "# gamma = Gamma parameter for the RBF, laplacian, polynomial, exponential chi2 and sigmoid kernels. \n",
    "    Interpretation of the default value is left to the kernel; see the documentation for sklearn.metrics.pairwise. \n",
    "    Ignored by other kernels.\n",
    "\n",
    "(same as ridge)\n",
    "# alpha = Regularization strength; must be a positive float. \n",
    "    Regularization improves the conditioning of the problem and reduces the variance of the estimates. \n",
    "    Larger values specify stronger regularization. \n",
    "    Alpha corresponds to 1 / (2C) in other linear models such as LogisticRegression or LinearSVC. \n",
    "    If an array is passed, penalties are assumed to be specific to the targets. \n",
    "    Hence they must correspond in number.\n",
    "'''\n",
    "\n",
    "'''\n",
    "# kernelRidge要考虑的参数是kernel,gamma,alpha，通过GridSearchCV我们需要确定param_grid也就是这个参数有哪些值才能找到最佳模型。\n",
    "# np.logspace用于创建等比数列, 开始点和结束点是10的幂, \n",
    "    i.e. logspace(-2,1,4)表示起始数字为10^-2，结尾数字为10^1，元素个数为4的等比数列\n",
    "'''\n",
    "# Set param_grid, aka the main parameters in Ridge\n",
    "param_grid_KernelRidge = [\n",
    "    {'kernel':['rbf'],\n",
    "     'gamma':np.logspace(-2,2,5),\n",
    "     'alpha':np.logspace(-3,2,20)\n",
    "    },\n",
    "    {'kernel':['linear'],\n",
    "     'alpha':np.logspace(-3,2,20)\n",
    "    }\n",
    "]\n",
    "\n",
    "# GridSearchCV\n",
    "kr = GridSearchCV(estimator=KernelRidge(), # algorithm - Kernel ridge regression\n",
    "                    param_grid=param_grid_KernelRidge, # specify the parameters to search over using a dict or list of dictionaries\n",
    "                    cv=10 # 10-Fold\n",
    "                    )\n",
    "\n",
    "# Build the model\n",
    "kr.fit(X_, y)\n",
    "\n",
    "# Output the best parameter, cross-validation score, estimator, and the index of best estimator.\n",
    "print(\"\\n------------------ Kernel Ridge Regression Model\")\n",
    "print(\"Best parameter: {}\".format(kr.best_params_))\n",
    "print(\"Best cross-validation score: {:.2f}\".format(kr.best_score_))\n",
    "print(\"Average score in 10-Fold: \\n\", kr.cv_results_['mean_test_score'])\n",
    "print(\"Std score in 10-Fold: \\n\", kr.cv_results_['std_test_score'])\n",
    "print(\"Best estimator: {}\".format(kr.best_estimator_))\n",
    "print(\"The Index of Best estimator: {}\".format(kr.best_index_))"
   ]
  },
  {
   "cell_type": "code",
   "execution_count": 7,
   "id": "4bd8a4fd",
   "metadata": {},
   "outputs": [
    {
     "name": "stdout",
     "output_type": "stream",
     "text": [
      "[-5.34259746e-03 -7.40699745e-01 -2.14089043e-01 -2.10426512e-01\n",
      " -3.03152261e-01 -4.40012416e-02 -2.42807078e-02 -1.28952663e-03\n",
      " -1.18850967e-04 -1.91348385e-02]\n"
     ]
    }
   ],
   "source": [
    "'''\n",
    "机器学习不同于统计建模，有些定义不一样。sklearn这个包定义的比较奇怪而已。\n",
    "https://zhuanlan.zhihu.com/p/369330147，score接近于1越好的是R2这个指标，其他的指标是接近于0越好。把负数去掉即可。\n",
    "'''\n",
    "# 10-Fold Cross-validation to check its accuracy again\n",
    "score = cross_val_score(estimator=KernelRidge(alpha=100.0, kernel='linear'),\n",
    "                        X=X_, y=y,\n",
    "                        cv=10\n",
    "                       )\n",
    "print(score)"
   ]
  },
  {
   "cell_type": "code",
   "execution_count": 8,
   "id": "ae4a0cd0",
   "metadata": {},
   "outputs": [],
   "source": [
    "# Use the above optimal parameters to build new model, aka training the dataset\n",
    "kr = KernelRidge(alpha=100.0, kernel='linear').fit(X_, y)"
   ]
  },
  {
   "cell_type": "code",
   "execution_count": null,
   "id": "1537582d",
   "metadata": {},
   "outputs": [],
   "source": []
  }
 ],
 "metadata": {
  "kernelspec": {
   "display_name": "Python 3",
   "language": "python",
   "name": "python3"
  },
  "language_info": {
   "codemirror_mode": {
    "name": "ipython",
    "version": 3
   },
   "file_extension": ".py",
   "mimetype": "text/x-python",
   "name": "python",
   "nbconvert_exporter": "python",
   "pygments_lexer": "ipython3",
   "version": "3.8.2"
  }
 },
 "nbformat": 4,
 "nbformat_minor": 5
}
