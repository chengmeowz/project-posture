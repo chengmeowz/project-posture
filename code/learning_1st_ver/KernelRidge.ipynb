{
 "cells": [
  {
   "cell_type": "code",
   "execution_count": 2,
   "id": "2eaaae3c",
   "metadata": {},
   "outputs": [],
   "source": [
    "# -*- coding: utf-8 -*-\n",
    "# learning\n",
    "# author: Cheng Zheng\n",
    "\n",
    "import os\n",
    "import numpy as np\n",
    "import pandas as pd\n",
    "\n",
    "# Machine learning algorithms\n",
    "from sklearn.kernel_ridge import KernelRidge #Kernel ridge regression\n",
    "\n",
    "# Cross-validation\n",
    "'''\n",
    "GridSearchCV = Perform an optimization of the parameters. 可以保证在指定的参数范围内找到精度最高的参数\n",
    "                1. search for the best parameters for model; \n",
    "                2. automatically fit a new model on the training dataset w/ the parameters that \n",
    "                    can yield the best cross-validation performance.\n",
    "cross_val_score = to implement cross-validation in scikit-learn.\n",
    "KFold: just to divide the dataset.\n",
    "    - When an integer is passed to the cv parameter of cross_val_score():\n",
    "        cv=int (same as cv=StratifiedKFold(n_splits=int)) is used if the estimator is a classifier \n",
    "        and y is either binary or multiclass; In all other cases, KFold is used.\n",
    "'''\n",
    "from sklearn.model_selection import GridSearchCV, cross_val_score, KFold\n",
    "\n",
    "path = os.getcwd()#get current path\n",
    "path_up1Dir = os.path.dirname(path)#go up one directory\n",
    "dataset = pd.read_excel(path_up1Dir +'/y_MVPA/y_MVPA.xlsx')#to import the preprocessed dataset into a variable\n",
    "\n",
    "# print(dataset)"
   ]
  },
  {
   "cell_type": "code",
   "execution_count": 3,
   "id": "dba8cd63",
   "metadata": {},
   "outputs": [],
   "source": [
    "X = pd.DataFrame(dataset.iloc[:,4:9])\n",
    "y = pd.DataFrame(dataset.iloc[:,9])\n",
    "other = pd.DataFrame(dataset.iloc[:,:4])"
   ]
  },
  {
   "cell_type": "code",
   "execution_count": 4,
   "id": "c1e39e01",
   "metadata": {},
   "outputs": [
    {
     "name": "stdout",
     "output_type": "stream",
     "text": [
      "\n",
      "------------------ Kernel Ridge Regression Model\n",
      "Best parameter: {'alpha': 100.0, 'gamma': 10.0, 'kernel': 'rbf'}\n",
      "Best score in r2: -0.15\n",
      "Average score in 10-Fold: \n",
      " [-2.37508199e+00 -6.74193373e+01 -2.12039391e+02 -1.84549505e+00\n",
      " -1.74715720e-01 -1.89029463e+00 -1.31646497e+01 -7.39855047e+01\n",
      " -1.84446273e+00 -1.74715297e-01 -8.04825379e-01 -4.43218118e+00\n",
      " -1.93019738e+01 -1.83433035e+00 -1.74711077e-01 -3.94863003e-01\n",
      " -1.51554117e+00 -5.42525201e+00 -1.74822909e+00 -1.74668939e-01\n",
      " -3.12794064e-01 -6.16777062e-01 -1.54785265e+00 -1.36786526e+00\n",
      " -1.74253712e-01 -2.45498700e-01 -3.70923903e-01 -6.62579132e-01\n",
      " -7.60995099e-01 -1.70643312e-01 -2.13243501e-01 -2.56260811e-01\n",
      " -3.39749972e-01 -3.11467275e-01 -1.56997525e-01 -1.89494605e-01\n",
      " -1.91203627e-01 -1.88916881e-01 -1.59917130e-01 -1.51376719e-01\n",
      " -1.77092405e-01 -1.61805046e-01 -1.51977601e-01 -1.50396816e-01\n",
      " -1.51327490e-01 -1.61737424e-01 -1.53024973e-01 -1.50948336e-01\n",
      " -1.51215121e-01 -1.51345763e-01 -1.52839705e-01 -1.51531648e-01\n",
      " -1.51298934e-01 -1.51334397e-01 -1.51347875e-01 -1.51504042e-01\n",
      " -1.51366643e-01 -1.51343094e-01 -1.51346737e-01 -1.51348089e-01\n",
      " -1.51363777e-01 -1.51349968e-01 -1.51347610e-01 -1.51347975e-01\n",
      " -1.51348111e-01 -1.88197945e-01 -1.88197936e-01 -1.88197903e-01\n",
      " -1.88197568e-01 -1.88194223e-01 -1.88160805e-01 -1.87830512e-01\n",
      " -1.84873587e-01 -1.70767583e-01 -1.53791437e-01 -1.50618720e-01\n",
      " -1.51231820e-01 -1.51335928e-01]\n",
      "Std score in 10-Fold: \n",
      " [3.69397284e+00 1.31680379e+02 2.14238862e+02 1.01733815e+00\n",
      " 2.19526137e-01 3.81667449e+00 2.30607294e+01 8.37918688e+01\n",
      " 1.01691585e+00 2.19525972e-01 1.03536113e+00 5.50527300e+00\n",
      " 1.86238973e+01 1.01278452e+00 2.19524320e-01 5.75115744e-01\n",
      " 1.84565625e+00 4.26912540e+00 9.78561472e-01 2.19507847e-01\n",
      " 4.75333363e-01 7.72941428e-01 1.34789770e+00 8.29497747e-01\n",
      " 2.19347291e-01 3.45069934e-01 5.03833296e-01 6.18821141e-01\n",
      " 5.34272154e-01 2.18094547e-01 2.90141943e-01 3.38226319e-01\n",
      " 3.16951818e-01 2.86187950e-01 2.16673834e-01 2.65494112e-01\n",
      " 2.53942809e-01 2.06107881e-01 2.14791558e-01 2.21345369e-01\n",
      " 2.59657708e-01 2.33312848e-01 2.12398708e-01 2.20310105e-01\n",
      " 2.22817022e-01 2.38486793e-01 2.25919879e-01 2.21404890e-01\n",
      " 2.22705075e-01 2.22988819e-01 2.25238466e-01 2.23375805e-01\n",
      " 2.22838929e-01 2.22977550e-01 2.23006280e-01 2.23241447e-01\n",
      " 2.23045977e-01 2.22991198e-01 2.23005152e-01 2.23008029e-01\n",
      " 2.23031652e-01 2.23012009e-01 2.23006519e-01 2.23007916e-01\n",
      " 2.23008204e-01 2.57366072e-01 2.57366064e-01 2.57366012e-01\n",
      " 2.57365502e-01 2.57360404e-01 2.57309482e-01 2.56806168e-01\n",
      " 2.52302490e-01 2.31750265e-01 2.17336720e-01 2.21035718e-01\n",
      " 2.22768342e-01 2.22983720e-01]\n",
      "Best estimator: KernelRidge(alpha=100.0, gamma=10.0, kernel='rbf')\n",
      "The Index of Best estimator: 43\n"
     ]
    }
   ],
   "source": [
    "# Kernel ridge regression\n",
    "'''\n",
    "(same as svr)\n",
    "# kernel = Kernel mapping used internally. This parameter is directly passed to pairwise_kernel. \n",
    "    If kernel is a string, it must be one of the metrics in pairwise.PAIRWISE_KERNEL_FUNCTIONS. \n",
    "    If kernel is “precomputed”, X is assumed to be a kernel matrix. \n",
    "    Alternatively, if kernel is a callable function, it is called on each pair of instances (rows) \n",
    "        and the resulting value recorded. \n",
    "    The callable should take two rows from X as input and return the corresponding kernel value as a single number. \n",
    "# gamma = Gamma parameter for the RBF, laplacian, polynomial, exponential chi2 and sigmoid kernels. \n",
    "    Interpretation of the default value is left to the kernel; see the documentation for sklearn.metrics.pairwise. \n",
    "    Ignored by other kernels.\n",
    "\n",
    "(same as ridge)\n",
    "# alpha = Regularization strength; must be a positive float. \n",
    "    Regularization improves the conditioning of the problem and reduces the variance of the estimates. \n",
    "    Larger values specify stronger regularization. \n",
    "    Alpha corresponds to 1 / (2C) in other linear models such as LogisticRegression or LinearSVC. \n",
    "    If an array is passed, penalties are assumed to be specific to the targets. \n",
    "    Hence they must correspond in number.\n",
    "'''\n",
    "\n",
    "'''\n",
    "# kernelRidge要考虑的参数是kernel,gamma,alpha，通过GridSearchCV我们需要确定param_grid也就是这个参数有哪些值才能找到最佳模型。\n",
    "# np.logspace用于创建等比数列, 开始点和结束点是10的幂, \n",
    "    i.e. logspace(-2,1,4)表示起始数字为10^-2，结尾数字为10^1，元素个数为4的等比数列\n",
    "'''\n",
    "# Set param_grid, aka the main parameters in Ridge\n",
    "param_grid_KernelRidge = [\n",
    "    {'kernel':['rbf'],\n",
    "     'gamma':np.logspace(-2,2,5),\n",
    "     'alpha':np.logspace(-6,6,13)\n",
    "    },\n",
    "    {'kernel':['linear'],\n",
    "     'alpha':np.logspace(-6,6,13)\n",
    "    }\n",
    "]\n",
    "\n",
    "rule='r2'\n",
    "\n",
    "# GridSearchCV\n",
    "kr = GridSearchCV(estimator=KernelRidge(), # algorithm - Kernel ridge regression\n",
    "                  param_grid=param_grid_KernelRidge, # specify the parameters to search over using a dict or list of dictionaries\n",
    "                  cv=10, # 10-Fold\n",
    "                  scoring=rule\n",
    "                    )\n",
    "\n",
    "# Build the model\n",
    "kr.fit(X, y)\n",
    "\n",
    "# Output the best parameter, cross-validation score, estimator, and the index of best estimator.\n",
    "print(\"\\n------------------ Kernel Ridge Regression Model\")\n",
    "print(\"Best parameter: {}\".format(kr.best_params_))\n",
    "print(\"Best score in %s: {:.2f}\".format(kr.best_score_) %rule)\n",
    "print(\"Average score in 10-Fold: \\n\", kr.cv_results_['mean_test_score'])\n",
    "print(\"Std score in 10-Fold: \\n\", kr.cv_results_['std_test_score'])\n",
    "print(\"Best estimator: {}\".format(kr.best_estimator_))\n",
    "print(\"The Index of Best estimator: {}\".format(kr.best_index_))"
   ]
  },
  {
   "cell_type": "code",
   "execution_count": 7,
   "id": "4bd8a4fd",
   "metadata": {},
   "outputs": [
    {
     "name": "stdout",
     "output_type": "stream",
     "text": [
      "[-8.15292257e-03 -7.33968894e-01 -2.31300824e-01 -1.89351932e-01\n",
      " -2.86131568e-01 -3.54840851e-02 -3.56176551e-03  1.09490580e-03\n",
      " -3.17256858e-04 -1.67938145e-02]\n"
     ]
    }
   ],
   "source": [
    "'''\n",
    "机器学习不同于统计建模，有些定义不一样。sklearn这个包定义的比较奇怪而已。\n",
    "https://zhuanlan.zhihu.com/p/369330147，score接近于1越好的是R2这个指标，其他的指标是接近于0越好。把负数去掉即可。\n",
    "'''\n",
    "# 10-Fold Cross-validation to check its accuracy again\n",
    "score = cross_val_score(estimator=KernelRidge(alpha=100.0, gamma=10.0, kernel='rbf'),\n",
    "                        X=X, y=y,\n",
    "                        cv=10\n",
    "                       )\n",
    "print(score)"
   ]
  },
  {
   "cell_type": "code",
   "execution_count": 8,
   "id": "ae4a0cd0",
   "metadata": {},
   "outputs": [],
   "source": [
    "# Use the above optimal parameters to build new model, aka training the dataset\n",
    "kr = KernelRidge(alpha=100.0, gamma=10.0, kernel='rbf').fit(X, y)"
   ]
  },
  {
   "cell_type": "code",
   "execution_count": 10,
   "id": "1537582d",
   "metadata": {},
   "outputs": [],
   "source": [
    "yhat = kr.predict(X)"
   ]
  },
  {
   "cell_type": "code",
   "execution_count": 11,
   "id": "4a03531c",
   "metadata": {},
   "outputs": [
    {
     "data": {
      "text/plain": [
       "0.979802530981534"
      ]
     },
     "execution_count": 11,
     "metadata": {},
     "output_type": "execute_result"
    }
   ],
   "source": [
    "from sklearn.metrics import mean_squared_error as MSE\n",
    "MSE(y_true=y, y_pred=yhat)"
   ]
  },
  {
   "cell_type": "code",
   "execution_count": 12,
   "id": "c62a3fe3",
   "metadata": {},
   "outputs": [
    {
     "data": {
      "text/plain": [
       "0.020197469018465974"
      ]
     },
     "execution_count": 12,
     "metadata": {},
     "output_type": "execute_result"
    }
   ],
   "source": [
    "from sklearn.metrics import r2_score\n",
    "r2_score(y_true=y, y_pred=yhat)"
   ]
  },
  {
   "cell_type": "code",
   "execution_count": 14,
   "id": "285a8989",
   "metadata": {},
   "outputs": [
    {
     "data": {
      "text/plain": [
       "-0.1503968156681184"
      ]
     },
     "execution_count": 14,
     "metadata": {},
     "output_type": "execute_result"
    }
   ],
   "source": [
    "cross_val_score(kr,X,y,cv=10,scoring=\"r2\").mean()"
   ]
  },
  {
   "cell_type": "code",
   "execution_count": 16,
   "id": "bb94ea25",
   "metadata": {
    "scrolled": false
   },
   "outputs": [
    {
     "data": {
      "image/png": "[encoded data removed]",
      "text/plain": [
       "<Figure size 432x288 with 1 Axes>"
      ]
     },
     "metadata": {
      "needs_background": "light"
     },
     "output_type": "display_data"
    }
   ],
   "source": [
    "import matplotlib.pyplot as plt\n",
    "y = dataset['MVPA']\n",
    "sorted(y)\n",
    "plt.plot(range(len(y)),sorted(y),c=\"black\",label= \"Data\")\n",
    "plt.plot(range(len(yhat)),sorted(yhat),c=\"red\",label = \"Predict\")\n",
    "plt.legend()\n",
    "plt.show()"
   ]
  },
  {
   "cell_type": "code",
   "execution_count": null,
   "id": "a73c8960",
   "metadata": {},
   "outputs": [],
   "source": []
  }
 ],
 "metadata": {
  "kernelspec": {
   "display_name": "Python 3",
   "language": "python",
   "name": "python3"
  },
  "language_info": {
   "codemirror_mode": {
    "name": "ipython",
    "version": 3
   },
   "file_extension": ".py",
   "mimetype": "text/x-python",
   "name": "python",
   "nbconvert_exporter": "python",
   "pygments_lexer": "ipython3",
   "version": "3.8.2"
  }
 },
 "nbformat": 4,
 "nbformat_minor": 5
}
