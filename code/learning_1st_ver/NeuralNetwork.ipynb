{
 "cells": [
  {
   "cell_type": "code",
   "execution_count": 13,
   "id": "2c9187e0",
   "metadata": {},
   "outputs": [],
   "source": [
    "import os\n",
    "import numpy as np\n",
    "import pandas as pd\n",
    "\n",
    "# Machine learning algorithms\n",
    "from sklearn.neural_network import MLPRegressor #Neural network\n",
    "\n",
    "# Cross-validation\n",
    "'''\n",
    "GridSearchCV = Perform an optimization of the parameters. 可以保证在指定的参数范围内找到精度最高的参数\n",
    "                1. search for the best parameters for model; \n",
    "                2. automatically fit a new model on the training dataset w/ the parameters that \n",
    "                    can yield the best cross-validation performance.\n",
    "cross_val_score = to implement cross-validation in scikit-learn.\n",
    "PS: When an integer is passed to the cv parameter of cross_val_score():\n",
    "        cv=int (same as cv=StratifiedKFold(n_splits=int)) is used if the estimator is a classifier \n",
    "        and y is either binary or multiclass; In all other cases, KFold is used.\n",
    "        i.e. 写int=10会自动转换为KFold(n_splits=10),不会转换为StratifiedKFold(n_splits=10)。\n",
    "'''\n",
    "from sklearn.model_selection import GridSearchCV, cross_val_score\n",
    "\n",
    "path = os.getcwd()#get current path\n",
    "path_up1Dir = os.path.dirname(path)#go up one directory\n",
    "dataset = pd.read_excel(path_up1Dir +'/y_MVPA/y_MVPA.xlsx')#to import the preprocessed dataset into a variable\n",
    "\n",
    "# print(dataset)"
   ]
  },
  {
   "cell_type": "code",
   "execution_count": 14,
   "id": "3384dbc4",
   "metadata": {},
   "outputs": [],
   "source": [
    "X = pd.DataFrame(dataset.iloc[:,5:10])\n",
    "y = dataset['aveTotalArea']\n",
    "other = pd.DataFrame(dataset.iloc[:,:4])\n",
    "# print(X, y, other)"
   ]
  },
  {
   "cell_type": "code",
   "execution_count": 15,
   "id": "22994d3b",
   "metadata": {},
   "outputs": [
    {
     "name": "stdout",
     "output_type": "stream",
     "text": [
      "\n",
      "------------------ MLPRegressor Model\n",
      "Best parameter: {'alpha': 1e-05}\n",
      "Best score in r2: 0.76\n",
      "Average score in 10-Fold: \n",
      " [0.75200159 0.74902549 0.74535627 0.75442276 0.75506088 0.74148567]\n",
      "Std score in 10-Fold: \n",
      " [0.07833031 0.07566431 0.07415324 0.07403857 0.07988558 0.07978333]\n",
      "Best estimator: MLPRegressor(alpha=1e-05, max_iter=10000)\n",
      "The Index of Best estimator: 4\n"
     ]
    }
   ],
   "source": [
    "# Neural Network\n",
    "'''\n",
    "Both MLPRegressor and MLPClassifier use parameter alpha for regularization (L2 regularization) term \n",
    "    which helps in avoiding overfitting by penalizing weights with large magnitudes.\n",
    "Finding a reasonable regularization parameter is best done using GridSearchCV, usually in the range 10.0 ** -np.arange(1, 7).\n",
    "# alpha = L2 penalty (regularization term) parameter.\n",
    "'''\n",
    "alpha = 10.0 ** -np.arange(1, 7)\n",
    "\n",
    "# Set param_grid, aka the main parameters in RandomForestRegressor\n",
    "param_grid_MLPRegressor = {\n",
    "    'alpha':alpha\n",
    "}\n",
    "\n",
    "# GridSearchCV\n",
    "mlpr = GridSearchCV(estimator=MLPRegressor(max_iter=10000), # algorithm - Random Forest Regressor\n",
    "                    param_grid=param_grid_MLPRegressor, # specify the parameters to search over using a dict or list of dictionaries\n",
    "                    cv=10, # 10-Fold\n",
    "                    scoring='r2'\n",
    "                    )\n",
    "\n",
    "# Build the model, aka training the dataset\n",
    "mlpr.fit(X, y.values.ravel())\n",
    "\n",
    "# Output the best parameter, cross-validation score, estimator, and the index of best estimator.\n",
    "print(\"\\n------------------ MLPRegressor Model\")\n",
    "print(\"Best parameter: {}\".format(mlpr.best_params_))\n",
    "print(\"Best score in r2: {:.2f}\".format(mlpr.best_score_))\n",
    "print(\"Average score in 10-Fold: \\n\", mlpr.cv_results_['mean_test_score'])\n",
    "print(\"Std score in 10-Fold: \\n\", mlpr.cv_results_['std_test_score'])\n",
    "print(\"Best estimator: {}\".format(mlpr.best_estimator_))\n",
    "print(\"The Index of Best estimator: {}\".format(mlpr.best_index_))"
   ]
  },
  {
   "cell_type": "code",
   "execution_count": 4,
   "id": "0acc3a18",
   "metadata": {
    "scrolled": true
   },
   "outputs": [
    {
     "name": "stdout",
     "output_type": "stream",
     "text": [
      "[-0.14389963 -1.45058069 -0.50802702 -0.26065927 -0.4552932  -0.44834887\n",
      " -0.06452469 -0.17604421 -0.02102279 -0.07156033]\n"
     ]
    }
   ],
   "source": [
    "'''\n",
    "机器学习不同于统计建模，有些定义不一样。sklearn这个包定义的比较奇怪而已。\n",
    "https://zhuanlan.zhihu.com/p/369330147，score接近于1越好的是R2这个指标，其他的指标是接近于0越好。把负数去掉即可。\n",
    "'''\n",
    "# 10-Fold Cross-validation to check its accuracy again\n",
    "score = cross_val_score(estimator=MLPRegressor(alpha=0.1, max_iter=10000),\n",
    "                        X=X, y=y.values.ravel(),\n",
    "                        cv=10\n",
    "                       )\n",
    "print(score)"
   ]
  },
  {
   "cell_type": "code",
   "execution_count": 5,
   "id": "d84d2d09",
   "metadata": {},
   "outputs": [],
   "source": [
    "# Use the above optimal parameters to build new model, aka training the dataset\n",
    "mlpr = MLPRegressor(alpha=0.1, max_iter=10000).fit(X, y.values.ravel())"
   ]
  },
  {
   "cell_type": "code",
   "execution_count": 6,
   "id": "b943a75c",
   "metadata": {},
   "outputs": [
    {
     "name": "stdout",
     "output_type": "stream",
     "text": [
      "Test set predictions:\n",
      " [ 3.11520911e-01  3.15242332e-01  1.72890522e-01 -8.41440782e-02\n",
      "  3.14558091e-01  2.66285888e-01 -8.61597183e-02 -7.79392035e-02\n",
      " -6.36657914e-02 -3.22018359e-01 -3.92529748e-01 -4.06401993e-01\n",
      "  1.54228286e-01  3.93896987e-01  6.99296908e-01  1.63536095e-01\n",
      " -7.70095908e-02 -1.43465232e-01 -6.26716258e-02  1.35896345e+00\n",
      " -1.53309045e-03  1.45362120e-01 -5.22394348e-02  2.30639275e-01\n",
      " -1.01487029e-01 -2.13040026e-02 -1.11570862e-02 -2.01089152e-01\n",
      " -6.04262831e-02 -5.60635471e-02  4.15267539e-01  8.21095190e-02\n",
      "  5.48735726e-02 -4.29518938e-02 -1.43605190e-01  8.55148158e-02\n",
      " -1.68092959e-01 -7.96104741e-02 -6.20441123e-02  6.40724525e-03\n",
      " -1.31980663e-01 -4.57843709e-02 -1.41256015e-02 -1.42364758e-01\n",
      " -2.82066800e-02 -6.26368960e-02 -6.46124877e-02 -1.86399104e-01\n",
      "  1.42898578e-02  3.48331283e-01  7.67274792e-01  5.72492941e-02\n",
      "  5.32314693e-01 -9.94619381e-02  3.81184725e-01  3.48260946e-02\n",
      " -2.68783243e-01 -1.95875309e-01 -6.13894207e-02 -1.74398615e-01\n",
      "  1.21438211e-01 -2.01007186e-01 -5.91564537e-01 -3.73793475e-01\n",
      " -1.11206775e-01 -1.69344986e-01 -3.57126394e-01 -1.22886474e-01\n",
      "  7.55170526e-02  6.70109971e-01 -6.02391697e-02 -2.91535483e-01\n",
      " -6.73808299e-02 -2.37066347e-01 -1.85525868e-01 -1.91698654e-01\n",
      "  1.73562857e-02  3.24435899e-01  1.02416794e-01  1.63509230e-01\n",
      " -2.66178844e-01 -1.78235392e-01  2.33218948e-01 -2.78634584e-01\n",
      " -7.94959238e-02 -4.21068209e-02 -3.81651785e-03 -9.06182822e-02\n",
      " -2.73560691e-01 -1.94566146e-01 -4.60825812e-02 -1.71146868e-01\n",
      " -1.46619808e-01 -1.40912018e-01 -1.92162420e-01  3.83552414e-03\n",
      " -4.97390040e-02 -4.53018958e-02  3.59238744e-01 -8.14256432e-04\n",
      "  8.84469611e-01  2.12862456e-02 -2.07301077e-01 -7.37801427e-02\n",
      " -5.98827320e-02 -2.54848434e-01  8.72065927e-03 -1.39617571e-01\n",
      " -6.36135917e-02 -3.87079276e-02 -7.99740274e-02 -8.72111487e-02\n",
      " -2.81377114e-01 -1.44474656e-01 -3.22412532e-01 -1.50018653e-01\n",
      "  4.00376946e-01  1.88921803e-01 -1.39760986e-01  6.26754538e-03\n",
      " -4.38813045e-01 -1.98864763e-01 -2.21461688e-02 -1.31280045e-02\n",
      "  5.08207830e-01 -8.02617162e-02  2.28695895e-01 -5.10294521e-02\n",
      " -4.52982856e-02  3.07752196e-02  1.06309341e-01 -2.52578866e-01\n",
      "  8.70984707e-02 -1.86574259e-02  5.39382150e-02 -2.53059880e-01\n",
      " -2.02085857e-01  1.02503021e-01 -1.01409126e-01  7.06935319e-02\n",
      " -2.34094785e-01 -2.74359870e-01 -2.59305862e-01 -1.41557612e-01\n",
      " -1.90162443e-01 -2.75262327e-02 -6.72670377e-02 -4.87682599e-02\n",
      " -2.02687878e-01 -7.02949775e-02 -3.68519791e-01 -1.04918237e-02\n",
      " -2.49463612e-01 -1.67580527e-01 -7.20185016e-02 -2.16421299e-01\n",
      "  1.33251178e-01 -1.33661849e-01 -1.50859710e-01 -1.53147413e-01\n",
      " -3.80368720e-02 -1.05464393e-01  5.30018584e-02  7.63398773e-02\n",
      " -6.90067094e-02 -1.31836665e-01 -6.95898877e-02  1.39532216e-02\n",
      "  1.51391456e-01  2.11940239e-01 -1.83171480e-02  4.27796307e-03\n",
      "  3.52766756e-02 -1.30305625e-01 -4.64264543e-03 -2.94199449e-02\n",
      " -1.14755791e-01 -2.07673812e-03  1.58447137e-01  1.59190639e-01\n",
      "  4.47450120e-02  1.65263649e-01  7.23239627e-02  1.35728185e-01\n",
      "  1.21162864e-02 -7.55638135e-02  1.67087519e-01 -8.66775123e-03\n",
      " -1.21011458e-01 -1.32088256e-01  4.57616384e-02 -2.56429730e-01\n",
      " -6.30732341e-02 -3.30619808e-02  4.79577535e-03  1.70586542e-02\n",
      "  3.45140488e-01  2.94606826e-02 -9.73413344e-02 -3.71999647e-02\n",
      "  7.55441424e-02 -1.15053003e-01  1.16802742e-01 -2.38849900e-01\n",
      "  5.75926923e-01  1.27938844e-01  3.42184039e-01  1.30125278e-01\n",
      " -2.31024094e-02 -2.87102739e-01 -2.45912895e-01 -1.50097342e-01\n",
      " -1.61176109e-01 -1.08464563e-01 -1.53744594e-01 -6.59679644e-02\n",
      " -1.35904375e-01  6.83286383e-02 -1.45688400e-02 -1.28007931e-01\n",
      "  1.55662243e-01 -3.42526436e-01  1.95750814e-01 -1.72276632e-01\n",
      " -2.43974266e-01 -3.08947383e-01 -2.13699418e-01  1.29640009e-01\n",
      " -9.28989877e-02  1.03786742e-01  2.19015753e-01  2.12034613e-01\n",
      "  2.55453265e-01 -7.40609098e-03 -4.15675173e-02 -4.53397961e-01\n",
      " -3.82169539e-01 -1.43944882e-01 -3.89181168e-01 -3.58720712e-01\n",
      " -2.33437626e-01 -2.69361083e-01  1.70120194e-02  9.39608063e-03\n",
      "  1.10641875e-01  3.36343603e-02  3.78086175e-02 -9.09109400e-02\n",
      " -3.62136984e-02 -2.18705673e-01 -4.63562057e-02 -9.46080643e-02\n",
      "  5.32119959e-02  1.15731183e-01 -5.58798182e-02  2.00316181e-01\n",
      " -9.54348341e-02  4.16234203e-02  2.01734342e-01 -1.22673313e-01\n",
      "  5.42120954e-02  1.46865022e-01 -4.71847944e-02  2.31323703e-01\n",
      " -6.64967263e-02  7.44249132e-02  1.31907531e-01  2.22606065e-01\n",
      " -4.77465291e-03  3.41053428e-01  6.43299440e-02 -1.23361632e-02\n",
      " -9.66079209e-02 -2.95023969e-02  2.12380789e-01 -4.21855776e-02\n",
      " -9.48859951e-02  2.36070246e-01  8.55509445e-02  1.19627977e-01\n",
      "  6.96983886e-03  7.20344922e-02  7.56799623e-01  2.12577584e-01\n",
      "  6.71279019e-01  3.09002310e-01  5.20915304e-02 -5.91159085e-02\n",
      "  5.11495848e-02  9.50789852e-02  5.73483529e-01  4.49685739e-01\n",
      "  4.67822732e-01  5.98863142e-01 -2.29160230e-02 -7.67907847e-02\n",
      "  8.98047859e-02  2.99027121e-01  3.50136898e-02  2.62787508e-02\n",
      "  2.56787357e-01 -6.60324396e-02 -1.27244490e-02 -4.40157362e-02\n",
      " -6.20393388e-03 -1.39377186e-01 -3.24090343e-02 -4.97639437e-02\n",
      "  2.56168677e-01  9.62764276e-02  3.90016967e-01  5.67556367e-02\n",
      "  3.71844016e-02 -1.06391603e-01 -9.61618130e-02 -1.03805528e-01\n",
      " -1.37481303e-01 -1.32818841e-01  2.31905374e-01  4.62243520e-01\n",
      " -1.91065097e-02  1.35235408e-01  2.79568306e-02 -1.27107706e-01\n",
      " -9.66245295e-02 -2.56654955e-01 -1.72357213e-02  9.67915898e-02\n",
      " -9.69119686e-03  3.44827965e-02  4.92510192e-02 -1.23404588e-02\n",
      "  1.69546403e-01 -4.27001617e-04 -1.88167268e-01  1.19460386e-01\n",
      "  1.22311111e-01  8.80271094e-02  3.01895317e-03  4.88560010e-02\n",
      " -1.55721172e-03  1.65624789e-01  4.97431230e-01  3.14653142e-01\n",
      "  2.28303230e-03 -1.18755451e-01 -6.22350437e-03 -1.54295214e-01\n",
      " -8.48446462e-02 -1.89366712e-02 -2.58671838e-01  6.92016253e-03\n",
      "  8.60953469e-02 -1.10128498e-01  7.88956472e-03 -8.53159724e-02\n",
      " -4.45715378e-02 -5.47997045e-02 -1.76764056e-01  1.04624570e-01\n",
      " -5.05510257e-02  3.55915562e-02 -8.84230494e-02  5.77159388e-02\n",
      " -1.83492119e-01 -4.03829257e-02 -1.08889360e-01 -2.94736278e-01\n",
      " -4.04112944e-02  5.72549572e-02  4.33742670e-02  7.36224770e-02\n",
      " -7.24878237e-02  3.66727051e-01  2.02338045e-01 -6.18738413e-02\n",
      "  4.62412945e-02  8.99400077e-02  5.82635047e-03 -5.45157967e-02\n",
      "  3.31055861e-03 -5.61751886e-02 -2.16937348e-01 -3.88487312e-01\n",
      "  1.94619378e-01 -5.89447426e-02  4.33694077e-01 -6.37596899e-02\n",
      " -2.35185561e-01 -1.22585536e-01 -1.40533225e-01 -2.30574620e-02\n",
      " -2.54126017e-01 -1.26875401e-02 -1.43389154e-01 -7.19568431e-03\n",
      " -1.28480954e-01 -2.09651059e-01 -1.89299325e-01 -3.58723799e-01\n",
      "  3.98153937e-01 -2.50999558e-02  1.27055481e-01  8.27303678e-02\n",
      " -4.71277934e-02  2.06824870e-01  1.13104365e-01 -1.72452232e-01\n",
      "  6.05028303e-02  2.07747489e-01 -1.01091422e-01 -1.06395054e-01\n",
      " -1.38087746e-01  4.30674902e-02 -8.01036456e-02  1.17985520e-01\n",
      "  9.35600565e-02  3.25358511e-01  9.04420826e-02  2.42313844e-01\n",
      "  6.21527521e-02  3.74853336e-02  4.26803915e-02 -4.36400875e-02\n",
      " -7.27712379e-02  3.38895953e-01 -2.52131525e-01 -1.03080581e-01\n",
      " -1.48547307e-01 -1.94869367e-01 -1.72907596e-01 -1.29355189e-01\n",
      " -2.45762814e-01 -9.24735077e-02 -1.23692691e-01 -9.31160046e-02\n",
      "  6.78122558e-01  8.73705308e-01  2.68454541e-01  2.02262529e-01\n",
      " -8.95825994e-02 -1.14788059e-01 -7.87660080e-03 -6.67181933e-02\n",
      " -1.05393349e-01 -7.53335704e-02 -1.30755672e-01  2.86924901e-01\n",
      " -2.84002004e-01 -3.05335108e-01 -1.82790746e-01 -1.34388463e-01\n",
      " -1.43545990e-01 -1.50737108e-01 -2.43321959e-01 -6.33724741e-02\n",
      " -5.21971102e-02  1.80724957e-01  1.96280060e-01  1.72857879e-01\n",
      " -7.90654233e-02  2.86554975e-03  5.55001824e-03 -3.48187012e-01\n",
      " -1.18446683e-01  2.91887675e-01 -5.31318478e-02 -6.72002104e-02\n",
      " -3.79868728e-01 -6.59849121e-02 -6.44941783e-02 -3.34353835e-01\n",
      " -1.96945020e-01 -1.42954275e-01 -7.03561464e-03 -1.01323340e-01\n",
      "  1.78710199e-02 -1.46642732e-01 -6.47191764e-02 -1.42605601e-01\n",
      "  4.15692916e-01  6.46971387e-01 -1.07808714e-01  2.18202582e-01\n",
      " -4.83745318e-02 -1.21755647e-02 -1.02351663e-01 -3.75991072e-02\n",
      "  1.10700356e-01  1.16897552e-01 -2.66864955e-02 -4.13648460e-02\n",
      "  2.06571050e-03  4.02254936e-01 -2.51949865e-01  2.93308166e-01\n",
      " -3.92836116e-01 -4.05558255e-02 -6.89345530e-02 -2.24594158e-02\n",
      "  5.16352268e-02 -1.22767322e-01 -1.25049920e-02 -1.26098210e-01\n",
      " -2.49114460e-01  1.02501573e-01 -1.44568666e-01  8.86616020e-03\n",
      "  3.09945312e-02 -3.28995149e-02 -7.22337395e-02 -8.59674180e-02\n",
      "  2.16820953e-02 -1.30335381e-01  8.46811439e-02  3.32194549e-02\n",
      " -1.44307252e-01 -1.06686157e-01 -3.99876423e-02  2.82734275e-01\n",
      " -1.54967328e-01  1.20480881e-01  5.60630494e-01  3.48085233e-02\n",
      "  3.93621632e-01 -1.79344561e-02  9.96792864e-02 -5.12572469e-02\n",
      " -1.41398923e-01 -1.37834330e-01  1.30380144e-01  1.43270844e-01\n",
      " -1.21373456e-01 -2.61107463e-02 -1.76259989e-01  4.90946597e-02\n",
      " -9.94400987e-02 -2.03684810e-01 -5.33404406e-02 -1.33561164e-01\n",
      " -5.64039105e-02 -1.00757054e-01  1.69292905e-01 -3.55015506e-01\n",
      " -1.51386647e-02 -1.80207354e-01 -2.00922640e-01 -6.07390055e-01\n",
      " -3.32588087e-01 -1.05004535e-01 -1.60450150e-01 -1.32475415e-01\n",
      " -5.47972355e-02 -1.80478520e-02 -1.35257974e-01  1.51121680e-01\n",
      " -1.39574776e-01 -1.66309976e-01 -1.77970791e-01  2.20816195e-01\n",
      "  8.11149001e-02 -7.06916408e-02 -5.66995235e-02 -8.65855051e-03\n",
      " -1.06210107e-01 -2.46739817e-01 -2.45457004e-01 -2.90910964e-01\n",
      " -2.11040118e-01  2.74695498e-01  1.15829944e-01  5.51864889e-01\n",
      "  2.41187188e-01  1.42622408e-01 -5.31638784e-03  7.00820140e-02\n",
      " -1.97940641e-01 -1.84907647e-01 -3.81335778e-01 -1.70168831e-01\n",
      " -2.71787516e-01 -9.74975108e-02  3.28008224e-01 -1.27153458e-01\n",
      " -6.64626790e-02  4.82154323e-02  3.23739313e-01  5.71049194e-02\n",
      " -4.73476965e-02  5.58908924e-02  3.12351703e-01  3.92726337e-01\n",
      " -2.46027358e-02  4.12468228e-02  1.96807525e-01 -7.50654303e-02\n",
      "  7.47692280e-02 -9.10474181e-02 -1.51544820e-01  3.89216830e-01\n",
      " -2.46846255e-01 -1.08485379e-02  1.36613342e-01  5.99494739e-02\n",
      "  5.92458246e-02 -6.70544526e-02 -1.10002615e-01  4.80715760e-02\n",
      "  8.83485446e-02  2.22749030e-01  1.86482950e-01  5.68023248e-02\n",
      " -7.75273227e-02  2.13469357e-01 -4.18703690e-03  3.86700302e-01\n",
      "  5.87289669e-01  5.01319695e-02  1.23765546e-01  1.46607128e-01\n",
      "  2.34935683e-01 -2.26888533e-01  5.37443915e-02  1.84680345e-01\n",
      "  4.31740768e-02 -4.22755722e-02 -1.23174777e-01 -4.64586693e-02\n",
      " -2.20760020e-02  2.26767679e-01 -9.73092668e-02 -4.96010376e-02\n",
      " -1.02933509e-01 -1.70454222e-01 -1.89507027e-01 -9.77234450e-02\n",
      " -3.03664888e-01 -1.77884197e-01 -8.07720992e-02 -9.44649953e-02\n",
      " -3.05758196e-01 -2.46153615e-02 -1.91490815e-01  8.21319541e-02\n",
      "  1.56861872e-01]\n"
     ]
    }
   ],
   "source": [
    "yhat = mlpr.predict(X)\n",
    "print(\"Test set predictions:\\n {}\".format(yhat))"
   ]
  },
  {
   "cell_type": "code",
   "execution_count": 7,
   "id": "2fe09ed8",
   "metadata": {},
   "outputs": [
    {
     "data": {
      "text/plain": [
       "0.9070544217057062"
      ]
     },
     "execution_count": 7,
     "metadata": {},
     "output_type": "execute_result"
    }
   ],
   "source": [
    "from sklearn.metrics import mean_squared_error as MSE\n",
    "MSE(y_true=y, y_pred=yhat)"
   ]
  },
  {
   "cell_type": "code",
   "execution_count": 8,
   "id": "f21a8a42",
   "metadata": {},
   "outputs": [
    {
     "data": {
      "text/plain": [
       "-19.60304371567539"
      ]
     },
     "execution_count": 8,
     "metadata": {},
     "output_type": "execute_result"
    }
   ],
   "source": [
    "#调用R2\n",
    "from sklearn.metrics import r2_score\n",
    "r2_score(yhat,y)"
   ]
  },
  {
   "cell_type": "code",
   "execution_count": 9,
   "id": "72ea8a46",
   "metadata": {},
   "outputs": [
    {
     "data": {
      "text/plain": [
       "0.09294557829429384"
      ]
     },
     "execution_count": 9,
     "metadata": {},
     "output_type": "execute_result"
    }
   ],
   "source": [
    "r2 = mlpr.score(X,y)\n",
    "r2"
   ]
  },
  {
   "cell_type": "code",
   "execution_count": 10,
   "id": "342f6ba5",
   "metadata": {},
   "outputs": [
    {
     "data": {
      "text/plain": [
       "0.09294557829429384"
      ]
     },
     "execution_count": 10,
     "metadata": {},
     "output_type": "execute_result"
    }
   ],
   "source": [
    "r2_score(y_true = y, y_pred = yhat)"
   ]
  },
  {
   "cell_type": "code",
   "execution_count": 11,
   "id": "bc653de3",
   "metadata": {},
   "outputs": [
    {
     "data": {
      "text/plain": [
       "-0.36129014963688705"
      ]
     },
     "execution_count": 11,
     "metadata": {},
     "output_type": "execute_result"
    }
   ],
   "source": [
    "cross_val_score(mlpr,X,y.values.ravel(),cv=10,scoring=\"r2\").mean()"
   ]
  },
  {
   "cell_type": "code",
   "execution_count": 12,
   "id": "947c00d2",
   "metadata": {},
   "outputs": [
    {
     "data": {
      "image/png": "[encoded data removed]",
      "text/plain": [
       "<Figure size 432x288 with 1 Axes>"
      ]
     },
     "metadata": {
      "needs_background": "light"
     },
     "output_type": "display_data"
    }
   ],
   "source": [
    "import matplotlib.pyplot as plt\n",
    "y = dataset['MVPA']\n",
    "sorted(y)\n",
    "plt.plot(range(len(y)),sorted(y),c=\"black\",label= \"Data\")\n",
    "plt.plot(range(len(yhat)),sorted(yhat),c=\"red\",label = \"Predict\")\n",
    "plt.legend()\n",
    "plt.show()"
   ]
  },
  {
   "cell_type": "code",
   "execution_count": 7,
   "id": "2345ba8f",
   "metadata": {},
   "outputs": [
    {
     "data": {
      "text/plain": [
       "'/Users/zclalala/Documents/GitHub/project-posture/x_TotalArea_y_MVPA/x_TotalArea_y_MVPA_AdaBoost.pdf'"
      ]
     },
     "execution_count": 7,
     "metadata": {},
     "output_type": "execute_result"
    }
   ],
   "source": [
    "# Draw the AdaBoost\n",
    "abr_tree = abr.estimators_[0] # Draw the first tree\n",
    "\n",
    "# Export a decision tree w/ color in DOT format.\n",
    "dot_data = tree.export_graphviz(decision_tree=abr_tree, # decision tree classifier\n",
    "                               filled=True, # True: paint nodes to indicate majority class for classification, extremity of values for regression, or purity of node for multi-output\n",
    "                               rounded=True, # True: draw node boxes with rounded corners and use Helvetica fonts instead of Times-Roman\n",
    "                               special_characters=True # True: do not ignore special characters for PostScript compatibility\n",
    "                               )\n",
    "\n",
    "# Output the graph\n",
    "graph = graphviz.Source(dot_data)\n",
    "graph.render(filename='x_TotalArea_y_MVPA_AdaBoost', \n",
    "            directory=path_up1Dir +'/x_TotalArea_y_MVPA')"
   ]
  },
  {
   "cell_type": "code",
   "execution_count": null,
   "id": "c52e7604",
   "metadata": {},
   "outputs": [],
   "source": []
  }
 ],
 "metadata": {
  "kernelspec": {
   "display_name": "Python 3",
   "language": "python",
   "name": "python3"
  },
  "language_info": {
   "codemirror_mode": {
    "name": "ipython",
    "version": 3
   },
   "file_extension": ".py",
   "mimetype": "text/x-python",
   "name": "python",
   "nbconvert_exporter": "python",
   "pygments_lexer": "ipython3",
   "version": "3.8.2"
  }
 },
 "nbformat": 4,
 "nbformat_minor": 5
}
